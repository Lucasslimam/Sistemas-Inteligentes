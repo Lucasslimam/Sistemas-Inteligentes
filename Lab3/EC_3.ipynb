{
  "nbformat": 4,
  "nbformat_minor": 0,
  "metadata": {
    "kernelspec": {
      "display_name": "Python 3",
      "language": "python",
      "name": "python3"
    },
    "language_info": {
      "codemirror_mode": {
        "name": "ipython",
        "version": 3
      },
      "file_extension": ".py",
      "mimetype": "text/x-python",
      "name": "python",
      "nbconvert_exporter": "python",
      "pygments_lexer": "ipython3",
      "version": "3.8.3"
    },
    "colab": {
      "name": "EC_3.ipynb",
      "provenance": []
    }
  },
  "cells": [
    {
      "cell_type": "markdown",
      "metadata": {
        "id": "SnHjLtzy_rxQ"
      },
      "source": [
        "# Sistemas Inteligentes\n",
        "\n",
        "## Exercício Computacional 3 - Redução de Dimensionalidade e Regressão"
      ]
    },
    {
      "cell_type": "markdown",
      "metadata": {
        "id": "sokQWR3Y_rxR"
      },
      "source": [
        "### Identificação do Aluno"
      ]
    },
    {
      "cell_type": "markdown",
      "metadata": {
        "id": "-wOLNrIH_rxS"
      },
      "source": [
        "#### Nome Completo"
      ]
    },
    {
      "cell_type": "markdown",
      "metadata": {
        "id": "b1nM-hNQ_rxS"
      },
      "source": [
        "ESCREVA AQUI A SUA RESPOSTA"
      ]
    },
    {
      "cell_type": "markdown",
      "metadata": {
        "id": "hYXx4Gfs_rxT"
      },
      "source": [
        "#### RA"
      ]
    },
    {
      "cell_type": "markdown",
      "metadata": {
        "id": "NpEKzceG_rxT"
      },
      "source": [
        "ESCREVA AQUI A SUA RESPOSTA"
      ]
    },
    {
      "cell_type": "markdown",
      "metadata": {
        "id": "-B1hHV6H_rxU"
      },
      "source": [
        "## Instruções"
      ]
    },
    {
      "cell_type": "markdown",
      "metadata": {
        "id": "dPpGwamk_rxV"
      },
      "source": [
        "Pesquise por datasets voltados para regressões que estejam disponíveis na biblioteca Scikit, então escolha uma para o este exercício.\n",
        "\n",
        "Utilize algum método de redução de dimensionalidade para realizar tal processo, então gere três modelos de regressão com diferentes métodos (um método diferente para cada modelo).\n",
        "\n",
        "Calcule e exiba métricas que ajudem a conferir a qualidade dos modelos gerados.\n",
        "\n",
        "Exiba gráficos que auxiliem na visualização dos dados e da curva de regressão.\n",
        "\n",
        "Compare os modelos e comente os resultados obtidos.\n",
        "\n",
        "Insira as referências utilizadas ao final."
      ]
    },
    {
      "cell_type": "markdown",
      "metadata": {
        "id": "hkZ_QvQT_rxV"
      },
      "source": [
        "## Desenvolvimento"
      ]
    },
    {
      "cell_type": "code",
      "metadata": {
        "id": "BWT0Fw9E_rxW"
      },
      "source": [
        "from sklearn.datasets import load_boston\n",
        "from sklearn.linear_model import LinearRegression\n",
        "from sklearn.model_selection import train_test_split\n",
        "\n",
        "from sklearn.decomposition import PCA\n",
        "from sklearn import linear_model\n",
        "\n",
        "import numpy as np"
      ],
      "execution_count": 1,
      "outputs": []
    },
    {
      "cell_type": "code",
      "metadata": {
        "id": "hpnMKILd_rxc"
      },
      "source": [
        "X, y = load_boston(return_X_y=True)\n",
        "\n",
        "Xpca = PCA(n_components=1).fit_transform(X)"
      ],
      "execution_count": 2,
      "outputs": []
    },
    {
      "cell_type": "code",
      "metadata": {
        "id": "siQg_zSd_rxe"
      },
      "source": [
        "X_train, X_test, y_train, y_test = train_test_split(Xpca, y, random_state = 10)\n",
        "Ridge_reg = linear_model.Ridge().fit(X_train, y_train)\n",
        "Lasso_reg = linear_model.Lasso().fit(X_train, y_train)\n",
        "TSR_reg = linear_model.TheilSenRegressor().fit(X_train, y_train)"
      ],
      "execution_count": 3,
      "outputs": []
    },
    {
      "cell_type": "code",
      "metadata": {
        "id": "5Id9f3De_rxg"
      },
      "source": [
        "y_pred_Ridge = Ridge_reg.predict(X_test)\n",
        "y_pred_Lasso = Lasso_reg.predict(X_test)\n",
        "y_pred_TSR = TSR_reg.predict(X_test)"
      ],
      "execution_count": 4,
      "outputs": []
    },
    {
      "cell_type": "code",
      "metadata": {
        "id": "XH33rW3h_rxh"
      },
      "source": [
        "from sklearn.metrics import mean_squared_error, r2_score\n",
        "\n",
        "mse_Ridge = mean_squared_error(y_test, y_pred_Ridge)\n",
        "r2_Ridge = r2_score(y_test, y_pred_Ridge)\n",
        "\n",
        "mse_Lasso = mean_squared_error(y_test, y_pred_Lasso)\n",
        "r2_Lasso = r2_score(y_test, y_pred_Lasso)\n",
        "\n",
        "mse_TSR = mean_squared_error(y_test, y_pred_TSR)\n",
        "r2_TSR = r2_score(y_test, y_pred_TSR)"
      ],
      "execution_count": 5,
      "outputs": []
    },
    {
      "cell_type": "code",
      "metadata": {
        "id": "-taxGoZ8Cf0H",
        "outputId": "3787622e-2ad3-4fe4-8c66-736ae972dc96",
        "colab": {
          "base_uri": "https://localhost:8080/"
        }
      },
      "source": [
        "print(\"R2 Score for Ridge:  %.4f\" % r2_Ridge)\n",
        "print(\"R2 Score for Lasso:  %.4f\" % r2_Lasso)\n",
        "print(\"R2 Score for TSR:    %.4f\" % r2_TSR)"
      ],
      "execution_count": 15,
      "outputs": [
        {
          "output_type": "stream",
          "text": [
            "R2 Score for Ridge:  0.1237\n",
            "R2 Score for Lasso:  0.1237\n",
            "R2 Score for TSR:    0.0093\n"
          ],
          "name": "stdout"
        }
      ]
    },
    {
      "cell_type": "code",
      "metadata": {
        "id": "StCocrk3_rxj",
        "outputId": "c974bcd1-a8ac-4ce9-a6a3-d15a789db211",
        "colab": {
          "base_uri": "https://localhost:8080/",
          "height": 279
        }
      },
      "source": [
        "import matplotlib.pyplot as plt\n",
        "\n",
        "plt.scatter(X_test, y_test,  color='grey')\n",
        "plt.plot(X_test, y_pred_Ridge, color='green', linewidth=4)\n",
        "plt.plot(X_test, y_pred_Lasso, color='blue', linewidth=1)\n",
        "plt.plot(X_test, y_pred_TSR, color='orange', linewidth=1)\n",
        "\n",
        "plt.legend(['Ridge', 'Lasso', 'TSR'], loc=1)\n",
        "\n",
        "plt.ylabel('Dados Y')\n",
        "plt.xlabel('Dados X de teste')\n",
        "\n",
        "plt.show()"
      ],
      "execution_count": 6,
      "outputs": [
        {
          "output_type": "display_data",
          "data": {
            "image/png": "[encoded data removed]",
            "text/plain": [
              "<Figure size 432x288 with 1 Axes>"
            ]
          },
          "metadata": {
            "tags": [],
            "needs_background": "light"
          }
        }
      ]
    },
    {
      "cell_type": "markdown",
      "metadata": {
        "id": "ca9OOfwXFdn6"
      },
      "source": [
        "Como podemos observar na comparação da curva e também dos R2 Score. Ridge e Lasso obtém resultados praticamente idênticos.\n",
        "Ridge é um modelo que resolve a regressão utilizando uma função de perda *linear least squares* (LLS) e a regularização é feita via norma L2 enquanto que o Lasso é um modelo linear utilizando a regularização via norma L1.\n",
        "Num ponto de vista prático, L1 tende a reduzir os coeficientes para 0 (seleção de *features*)  enquanto L2 reduz os coeficientes uniformemente.\n",
        "\n"
      ]
    },
    {
      "cell_type": "markdown",
      "metadata": {
        "id": "vB8JnRZHJWdN"
      },
      "source": [
        "O modelo Theil-Sen Regressor (TSR), por sua vez, calcula o *least squares* utilizando um numero n de subsets das amostras de X. Um valor de n entre o número de *features* e de amostras, leva o modelo à robustez e eficiência. Ao fim das escolhas de n amostras escolhendo n sub amostras, é calculado a mediana L1 de todas as soluções *least square*. Apesar de seu resultado no gráfico parecer muito mais fiel à maioria dos pontos do que os modelos Ridge e Lasso, que são mais simples, seu score R^2 (coeficiente de determinação) é menor por conta da penalização dos valores mais distantes para o cálculo da mediana."
      ]
    },
    {
      "cell_type": "markdown",
      "metadata": {
        "id": "_hWi9cD2PwTc"
      },
      "source": [
        "Referências:\n",
        "\n",
        "https://scikit-learn.org/stable/modules/generated/sklearn.linear_model.Ridge.html\n",
        "\n",
        "https://scikit-learn.org/stable/modules/generated/sklearn.linear_model.Lasso.html\n",
        "\n",
        "https://scikit-learn.org/stable/modules/generated/sklearn.linear_model.TheilSenRegressor.html\n",
        "\n",
        "https://towardsdatascience.com/ridge-and-lasso-regression-a-complete-guide-with-python-scikit-learn-e20e34bcbf0b\n",
        "\n",
        "https://explained.ai/regularization/L1vsL2.html\n",
        "\n",
        "https://towardsdatascience.com/intuitions-on-l1-and-l2-regularisation-235f2db4c261"
      ]
    }
  ]
}
