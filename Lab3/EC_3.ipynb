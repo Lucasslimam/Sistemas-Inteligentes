{
 "cells": [
  {
   "cell_type": "markdown",
   "metadata": {},
   "source": [
    "# Sistemas Inteligentes\n",
    "\n",
    "## Exercício Computacional 3 - Redução de Dimensionalidade e Regressão"
   ]
  },
  {
   "cell_type": "markdown",
   "metadata": {},
   "source": [
    "### Identificação do Aluno"
   ]
  },
  {
   "cell_type": "markdown",
   "metadata": {},
   "source": [
    "#### Nome Completo"
   ]
  },
  {
   "cell_type": "markdown",
   "metadata": {},
   "source": [
    "ESCREVA AQUI A SUA RESPOSTA"
   ]
  },
  {
   "cell_type": "markdown",
   "metadata": {},
   "source": [
    "#### RA"
   ]
  },
  {
   "cell_type": "markdown",
   "metadata": {},
   "source": [
    "ESCREVA AQUI A SUA RESPOSTA"
   ]
  },
  {
   "cell_type": "markdown",
   "metadata": {},
   "source": [
    "## Instruções"
   ]
  },
  {
   "cell_type": "markdown",
   "metadata": {},
   "source": [
    "Pesquise por datasets voltados para regressões que estejam disponíveis na biblioteca Scikit, então escolha uma para o este exercício.\n",
    "\n",
    "Utilize algum método de redução de dimensionalidade para realizar tal processo, então gere três modelos de regressão com diferentes métodos (um método diferente para cada modelo).\n",
    "\n",
    "Calcule e exiba métricas que ajudem a conferir a qualidade dos modelos gerados.\n",
    "\n",
    "Exiba gráficos que auxiliem na visualização dos dados e da curva de regressão.\n",
    "\n",
    "Compare os modelos e comente os resultados obtidos.\n",
    "\n",
    "Insira as referências utilizadas ao final."
   ]
  },
  {
   "cell_type": "markdown",
   "metadata": {},
   "source": [
    "## Desenvolvimento"
   ]
  },
  {
   "cell_type": "code",
   "execution_count": 1,
   "metadata": {},
   "outputs": [],
   "source": [
    "from sklearn.datasets import load_boston\n",
    "from sklearn.linear_model import LinearRegression\n",
    "from sklearn.model_selection import train_test_split\n",
    "\n",
    "from sklearn.decomposition import PCA\n",
    "from sklearn import linear_model\n",
    "\n",
    "import numpy as np"
   ]
  },
  {
   "cell_type": "code",
   "execution_count": 2,
   "metadata": {},
   "outputs": [],
   "source": [
    "X, y = load_boston(return_X_y=True)\n",
    "\n",
    "Xpca = PCA(n_components=1).fit_transform(X)"
   ]
  },
  {
   "cell_type": "code",
   "execution_count": 3,
   "metadata": {},
   "outputs": [],
   "source": [
    "X_train, X_test, y_train, y_test = train_test_split(Xpca, y, random_state = 10)\n",
    "Ridge_reg = linear_model.Ridge().fit(X_train, y_train)\n",
    "Lasso_reg = linear_model.Lasso().fit(X_train, y_train)\n",
    "TSR_reg = linear_model.TheilSenRegressor().fit(X_train, y_train)"
   ]
  },
  {
   "cell_type": "code",
   "execution_count": 4,
   "metadata": {},
   "outputs": [],
   "source": [
    "y_pred_Ridge = Ridge_reg.predict(X_test)\n",
    "y_pred_Lasso = Lasso_reg.predict(X_test)\n",
    "y_pred_TSR = TSR_reg.predict(X_test)"
   ]
  },
  {
   "cell_type": "code",
   "execution_count": 8,
   "metadata": {},
   "outputs": [
    {
     "name": "stdout",
     "output_type": "stream",
     "text": [
      "MSE Ridge: 87.35362373352808\n",
      "MSE Lasso: 87.35503889528515\n",
      "MSE TSR: 99.03981574435116\n",
      "R² Ridge: 0.12372777663584389\n",
      "R² Lasso: 0.1237135806942643\n",
      "R² TSR: 0.006499835557837397\n"
     ]
    }
   ],
   "source": [
    "from sklearn.metrics import mean_squared_error, r2_score\n",
    "\n",
    "mse_Ridge = mean_squared_error(y_test, y_pred_Ridge)\n",
    "r2_Ridge = r2_score(y_test, y_pred_Ridge)\n",
    "\n",
    "mse_Lasso = mean_squared_error(y_test, y_pred_Lasso)\n",
    "r2_Lasso = r2_score(y_test, y_pred_Lasso)\n",
    "\n",
    "mse_TSR = mean_squared_error(y_test, y_pred_TSR)\n",
    "r2_TSR = r2_score(y_test, y_pred_TSR)\n",
    "\n",
    "\n",
    "print(f\"MSE Ridge: {mse_Ridge}\")\n",
    "print(f\"MSE Lasso: {mse_Lasso}\")\n",
    "print(f\"MSE TSR: {mse_TSR}\")\n",
    "print(f\"R² Ridge: {r2_Ridge}\")\n",
    "print(f\"R² Lasso: {r2_Lasso}\")\n",
    "print(f\"R² TSR: {r2_TSR}\")"
   ]
  },
  {
   "cell_type": "code",
   "execution_count": 6,
   "metadata": {},
   "outputs": [
    {
     "data": {
      "image/png": "[encoded data removed]",
      "text/plain": [
       "<Figure size 432x288 with 1 Axes>"
      ]
     },
     "metadata": {
      "needs_background": "light"
     },
     "output_type": "display_data"
    }
   ],
   "source": [
    "import matplotlib.pyplot as plt\n",
    "\n",
    "plt.scatter(X_test, y_test,  color='grey')\n",
    "plt.plot(X_test, y_pred_Ridge, color='green', linewidth=4)\n",
    "plt.plot(X_test, y_pred_Lasso, color='blue', linewidth=1)\n",
    "plt.plot(X_test, y_pred_TSR, color='orange', linewidth=1)\n",
    "\n",
    "plt.legend(['Ridge', 'Lasso', 'TSR'], loc=1)\n",
    "\n",
    "plt.ylabel('Dados Y')\n",
    "plt.xlabel('Dados X de teste')\n",
    "\n",
    "plt.show()"
   ]
  },
  {
   "cell_type": "markdown",
   "metadata": {},
   "source": [
    "Como podemos observar na comparação da curva e também dos R2 Score. Ridge e Lasso obtém resultados praticamente idênticos.\n",
    "Ridge é um modelo que resolve a regressão utilizando uma função de perda *linear least squares* (LLS) e a regularização é feita via norma L2 enquanto que o Lasso é um modelo linear utilizando a regularização via norma L1.\n",
    "Num ponto de vista prático, L1 tende a reduzir os coeficientes para 0 (seleção de *features*)  enquanto L2 reduz os coeficientes uniformemente."
   ]
  },
  {
   "cell_type": "markdown",
   "metadata": {},
   "source": [
    "O modelo Theil-Sen Regressor (TSR), por sua vez, calcula o *least squares* utilizando um numero n de subsets das amostras de X. Um valor de n entre o número de *features* e de amostras, leva o modelo à robustez e eficiência. Ao fim das escolhas de n amostras escolhendo n sub amostras, é calculado a mediana L1 de todas as soluções *least square*. Apesar de seu resultado no gráfico parecer muito mais fiel à maioria dos pontos do que os modelos Ridge e Lasso, que são mais simples, seu score R^2 (coeficiente de determinação) é menor por conta da penalização dos valores mais distantes para o cálculo da mediana."
   ]
  },
  {
   "cell_type": "markdown",
   "metadata": {},
   "source": [
    "### Referências:\n",
    "\n",
    "https://scikit-learn.org/stable/modules/generated/sklearn.datasets.load_boston.html\n",
    "\n",
    "https://scikit-learn.org/stable/modules/generated/sklearn.linear_model.Ridge.html\n",
    "\n",
    "https://scikit-learn.org/stable/modules/generated/sklearn.linear_model.Lasso.html\n",
    "\n",
    "https://scikit-learn.org/stable/modules/generated/sklearn.linear_model.TheilSenRegressor.html\n",
    "\n",
    "https://towardsdatascience.com/ridge-and-lasso-regression-a-complete-guide-with-python-scikit-learn-e20e34bcbf0b\n",
    "\n",
    "https://explained.ai/regularization/L1vsL2.html\n",
    "\n",
    "https://towardsdatascience.com/intuitions-on-l1-and-l2-regularisation-235f2db4c261"
   ]
  }
 ],
 "metadata": {
  "kernelspec": {
   "display_name": "Python 3",
   "language": "python",
   "name": "python3"
  },
  "language_info": {
   "codemirror_mode": {
    "name": "ipython",
    "version": 3
   },
   "file_extension": ".py",
   "mimetype": "text/x-python",
   "name": "python",
   "nbconvert_exporter": "python",
   "pygments_lexer": "ipython3",
   "version": "3.8.3"
  }
 },
 "nbformat": 4,
 "nbformat_minor": 2
}
