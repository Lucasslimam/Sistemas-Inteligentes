{
 "cells": [
  {
   "cell_type": "markdown",
   "metadata": {},
   "source": [
    "# Sistemas Inteligentes\n",
    "\n",
    "## Exercício Computacional 3 - Redução de Dimensionalidade e Regressão"
   ]
  },
  {
   "cell_type": "markdown",
   "metadata": {},
   "source": [
    "### Identificação do Aluno"
   ]
  },
  {
   "cell_type": "markdown",
   "metadata": {},
   "source": [
    "#### Nome Completo"
   ]
  },
  {
   "cell_type": "markdown",
   "metadata": {},
   "source": [
    "ESCREVA AQUI A SUA RESPOSTA"
   ]
  },
  {
   "cell_type": "markdown",
   "metadata": {},
   "source": [
    "#### RA"
   ]
  },
  {
   "cell_type": "markdown",
   "metadata": {},
   "source": [
    "ESCREVA AQUI A SUA RESPOSTA"
   ]
  },
  {
   "cell_type": "markdown",
   "metadata": {},
   "source": [
    "## Instruções"
   ]
  },
  {
   "cell_type": "markdown",
   "metadata": {},
   "source": [
    "Pesquise por datasets voltados para regressões que estejam disponíveis na biblioteca Scikit, então escolha uma para o este exercício.\n",
    "\n",
    "Utilize algum método de redução de dimensionalidade para realizar tal processo, então gere três modelos de regressão com diferentes métodos (um método diferente para cada modelo).\n",
    "\n",
    "Calcule e exiba métricas que ajudem a conferir a qualidade dos modelos gerados.\n",
    "\n",
    "Exiba gráficos que auxiliem na visualização dos dados e da curva de regressão.\n",
    "\n",
    "Compare os modelos e comente os resultados obtidos.\n",
    "\n",
    "Insira as referências utilizadas ao final."
   ]
  },
  {
   "cell_type": "markdown",
   "metadata": {},
   "source": [
    "## Desenvolvimento"
   ]
  },
  {
   "cell_type": "code",
   "execution_count": 12,
   "metadata": {},
   "outputs": [],
   "source": [
    "from sklearn.datasets import load_boston\n",
    "from sklearn.linear_model import LinearRegression\n",
    "from sklearn.model_selection import train_test_split\n",
    "\n",
    "from sklearn.decomposition import PCA\n",
    "from sklearn.decomposition import FastICA\n",
    "from sklearn.manifold import TSNE\n",
    "import numpy as np"
   ]
  },
  {
   "cell_type": "code",
   "execution_count": 13,
   "metadata": {},
   "outputs": [],
   "source": [
    "X, y = load_boston(return_X_y=True)\n",
    "\n",
    "Xpca = PCA(n_components=1).fit_transform(X)\n",
    "Xica = FastICA(n_components=1).fit_transform(X)\n",
    "Xtsne = TSNE(n_components=1).fit_transform(X)"
   ]
  },
  {
   "cell_type": "code",
   "execution_count": 14,
   "metadata": {},
   "outputs": [],
   "source": [
    "X_train_PCA, X_test_PCA, y_train_PCA, y_test_PCA = train_test_split(Xpca, y, random_state = 10)\n",
    "regPCA = LinearRegression().fit(X_train_PCA, y_train_PCA)\n",
    "\n",
    "X_train_ICA, X_test_ICA, y_train_ICA, y_test_ICA = train_test_split(Xica, y, random_state = 10)\n",
    "regICA = LinearRegression().fit(X_train_ICA, y_train_ICA)\n",
    "\n",
    "X_train_TSNE, X_test_TSNE, y_train_TSNE, y_test_TSNE = train_test_split(Xtsne, y, random_state = 10)\n",
    "regTSNE = LinearRegression().fit(X_train_TSNE, y_train_TSNE)"
   ]
  },
  {
   "cell_type": "code",
   "execution_count": 15,
   "metadata": {},
   "outputs": [],
   "source": [
    "y_pred_PCA = regPCA.predict(X_test_PCA)\n",
    "y_pred_ICA = regPCA.predict(X_test_ICA)\n",
    "y_pred_TSNE = regPCA.predict(X_test_TSNE)"
   ]
  },
  {
   "cell_type": "code",
   "execution_count": 16,
   "metadata": {},
   "outputs": [],
   "source": [
    "from sklearn.metrics import mean_squared_error, r2_score\n",
    "\n",
    "mse_PCA = mean_squared_error(y_test_PCA, y_pred_PCA)\n",
    "r2_PCA = r2_score(y_test_PCA, y_pred_PCA)\n",
    "\n",
    "mse_ICA = mean_squared_error(y_test_ICA, y_pred_ICA)\n",
    "r2_ICA = r2_score(y_test_ICA, y_pred_ICA)\n",
    "\n",
    "mse_TSNE = mean_squared_error(y_test_TSNE, y_pred_TSNE)\n",
    "r2_TSNE = r2_score(y_test_TSNE, y_pred_TSNE)"
   ]
  },
  {
   "cell_type": "code",
   "execution_count": 47,
   "metadata": {},
   "outputs": [
    {
     "data": {
      "text/plain": [
       "Text(-0.03, 0.5, 'Y PRED')"
      ]
     },
     "execution_count": 47,
     "metadata": {},
     "output_type": "execute_result"
    },
    {
     "data": {
      "image/png": "[encoded data removed]",
      "text/plain": [
       "<Figure size 432x288 with 3 Axes>"
      ]
     },
     "metadata": {
      "needs_background": "light"
     },
     "output_type": "display_data"
    }
   ],
   "source": [
    "import matplotlib.pyplot as plt\n",
    "titulos = [\"PCA\", \"ICA\", \"TSNE\"]\n",
    "X_red = [X_test_PCA, X_test_ICA, X_test_TSNE]\n",
    "y_red = [y_pred_PCA, y_pred_ICA, y_pred_TSNE]\n",
    "\n",
    "fig, axs = plt.subplots(1, 3, sharey=True, tight_layout=True)\n",
    "i = 0\n",
    "for (x,y) in zip(X_red, y_red):\n",
    "    axs[i].scatter(x, y)\n",
    "    axs[i].set_title('Gráfico de Dispersão\\n' + titulos[i])\n",
    "    i += 1\n",
    "    \n",
    "    \n",
    "fig.suptitle\n",
    "fig.text(0.5, -0.03, 'X TESTE', ha='center')\n",
    "fig.text(-0.03, 0.5, 'Y PRED', va='center', rotation='vertical')"
   ]
  },
  {
   "cell_type": "code",
   "execution_count": null,
   "metadata": {},
   "outputs": [],
   "source": []
  }
 ],
 "metadata": {
  "kernelspec": {
   "display_name": "Python 3",
   "language": "python",
   "name": "python3"
  },
  "language_info": {
   "codemirror_mode": {
    "name": "ipython",
    "version": 3
   },
   "file_extension": ".py",
   "mimetype": "text/x-python",
   "name": "python",
   "nbconvert_exporter": "python",
   "pygments_lexer": "ipython3",
   "version": "3.8.3"
  }
 },
 "nbformat": 4,
 "nbformat_minor": 2
}
