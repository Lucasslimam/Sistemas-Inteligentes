{
 "cells": [
  {
   "cell_type": "markdown",
   "metadata": {},
   "source": [
    "# Sistemas Inteligentes\n",
    "\n",
    "## Exercício Computacional 3 - Redução de Dimensionalidade e Regressão"
   ]
  },
  {
   "cell_type": "markdown",
   "metadata": {},
   "source": [
    "### Identificação do Aluno"
   ]
  },
  {
   "cell_type": "markdown",
   "metadata": {},
   "source": [
    "#### Nome Completo"
   ]
  },
  {
   "cell_type": "markdown",
   "metadata": {},
   "source": [
    "ESCREVA AQUI A SUA RESPOSTA"
   ]
  },
  {
   "cell_type": "markdown",
   "metadata": {},
   "source": [
    "#### RA"
   ]
  },
  {
   "cell_type": "markdown",
   "metadata": {},
   "source": [
    "ESCREVA AQUI A SUA RESPOSTA"
   ]
  },
  {
   "cell_type": "markdown",
   "metadata": {},
   "source": [
    "## Instruções"
   ]
  },
  {
   "cell_type": "markdown",
   "metadata": {},
   "source": [
    "Pesquise por datasets voltados para regressões que estejam disponíveis na biblioteca Scikit, então escolha uma para o este exercício.\n",
    "\n",
    "Utilize algum método de redução de dimensionalidade para realizar tal processo, então gere três modelos de regressão com diferentes métodos (um método diferente para cada modelo).\n",
    "\n",
    "Calcule e exiba métricas que ajudem a conferir a qualidade dos modelos gerados.\n",
    "\n",
    "Exiba gráficos que auxiliem na visualização dos dados e da curva de regressão.\n",
    "\n",
    "Compare os modelos e comente os resultados obtidos.\n",
    "\n",
    "Insira as referências utilizadas ao final."
   ]
  },
  {
   "cell_type": "markdown",
   "metadata": {},
   "source": [
    "## Desenvolvimento"
   ]
  },
  {
   "cell_type": "code",
   "execution_count": 1,
   "metadata": {},
   "outputs": [
    {
     "name": "stdout",
     "output_type": "stream",
     "text": [
      "[[6.3200e-03 1.8000e+01 2.3100e+00 ... 1.5300e+01 3.9690e+02 4.9800e+00]\n",
      " [2.7310e-02 0.0000e+00 7.0700e+00 ... 1.7800e+01 3.9690e+02 9.1400e+00]\n",
      " [2.7290e-02 0.0000e+00 7.0700e+00 ... 1.7800e+01 3.9283e+02 4.0300e+00]\n",
      " ...\n",
      " [6.0760e-02 0.0000e+00 1.1930e+01 ... 2.1000e+01 3.9690e+02 5.6400e+00]\n",
      " [1.0959e-01 0.0000e+00 1.1930e+01 ... 2.1000e+01 3.9345e+02 6.4800e+00]\n",
      " [4.7410e-02 0.0000e+00 1.1930e+01 ... 2.1000e+01 3.9690e+02 7.8800e+00]]\n"
     ]
    }
   ],
   "source": [
    "from sklearn.datasets import load_boston\n",
    "from sklearn.linear_model import LinearRegression\n",
    "from sklearn.model_selection import train_test_split\n",
    "\n",
    "from sklearn.decomposition import PCA\n",
    "from sklearn.decomposition import FastICA\n",
    "from sklearn.manifold import TSNE\n",
    "\n",
    "from \n",
    "\n",
    "import numpy as np"
   ]
  },
  {
   "cell_type": "code",
   "execution_count": null,
   "metadata": {},
   "outputs": [],
   "source": [
    "X, y = load_boston(return_X_y=True)\n",
    "\n",
    "Xpca = PCA(n_components=1).fit_transform(X)\n",
    "Xica = FastICA(n_components=1).fit_transform(X)\n",
    "Xtsne = TSNE(n_components=1).fit_transform(X)"
   ]
  },
  {
   "cell_type": "code",
   "execution_count": null,
   "metadata": {},
   "outputs": [],
   "source": [
    "X_train_PCA, X_test_PCA, y_train_PCA, y_test_PCA = train_test_split(Xpca, y, random_state = 10)\n",
    "regPCA = LinearRegression().fit(X_train_PCA, y_train_PCA)\n",
    "\n",
    "X_train_ICA, X_test_ICA, y_train_ICA, y_test_ICA = train_test_split(Xica, y, random_state = 10)\n",
    "regICA = LinearRegression().fit(X_train_ICA, y_train_ICA)\n",
    "\n",
    "X_train_TSNE, X_test_TSNE, y_train_TSNE, y_test_TSNE = train_test_split(Xtsne, y, random_state = 10)\n",
    "regTSNE = LinearRegression().fit(X_train_TSNE, y_train_TSNE)"
   ]
  },
  {
   "cell_type": "code",
   "execution_count": null,
   "metadata": {},
   "outputs": [],
   "source": [
    "y_pred_PCA = regPCA.fit(X_train_PCA, y_train_PCA)\n",
    "y_pred_ICA = regPCA.fit(X_train_ICA, y_train_ICA)\n",
    "y_pred_TSNE = regPCA.fit(X_train_TSNE, y_train_TSNE)"
   ]
  },
  {
   "cell_type": "code",
   "execution_count": null,
   "metadata": {},
   "outputs": [],
   "source": []
  }
 ],
 "metadata": {
  "kernelspec": {
   "display_name": "Python 3",
   "language": "python",
   "name": "python3"
  },
  "language_info": {
   "codemirror_mode": {
    "name": "ipython",
    "version": 3
   },
   "file_extension": ".py",
   "mimetype": "text/x-python",
   "name": "python",
   "nbconvert_exporter": "python",
   "pygments_lexer": "ipython3",
   "version": "3.8.3"
  }
 },
 "nbformat": 4,
 "nbformat_minor": 2
}
