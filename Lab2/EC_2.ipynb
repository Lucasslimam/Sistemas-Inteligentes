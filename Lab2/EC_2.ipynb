{
 "cells": [
  {
   "cell_type": "markdown",
   "metadata": {},
   "source": [
    "# Sistemas Inteligentes\n",
    "\n",
    "## Exercício Computacional 2 - Classificação\n",
    "\n",
    "Preencha todas as células adequadamente e responda todas as perguntas de forma completa e elaborada."
   ]
  },
  {
   "cell_type": "markdown",
   "metadata": {},
   "source": [
    "### Identificação do Aluno"
   ]
  },
  {
   "cell_type": "markdown",
   "metadata": {},
   "source": [
    "#### Nome Completo"
   ]
  },
  {
   "cell_type": "markdown",
   "metadata": {},
   "source": [
    "Lucas da Silva de Lima\n",
    "\n",
    "Anderson Chaves Faria\n",
    "\n",
    "Otávio Rossati"
   ]
  },
  {
   "cell_type": "markdown",
   "metadata": {},
   "source": [
    "#### RA"
   ]
  },
  {
   "cell_type": "markdown",
   "metadata": {},
   "source": [
    "11201722101\n",
    "\n",
    "11053613\n",
    "\n",
    "11027015"
   ]
  },
  {
   "cell_type": "markdown",
   "metadata": {},
   "source": [
    "### Instruções\n",
    "\n",
    "Treine e teste um classificador à sua escolha utilizando a base de dados **Olivetti Faces** (veja as referências).\n",
    "\n",
    "Faça um caso com com *k-Fold* e um caso de forma direta, ou seja, utilizando o *train_test_split*.\n",
    "\n",
    "Exiba a acurácia e a *Confusion Matrix*, então discuta sobre o desempenho do classificador para os dois casos.\n",
    "\n",
    "Entre as células de códigos, insira células de tipo *Markdown* para fornecer explicações sobre os passos realizados; não insira apenas códigos \"soltos\" sem explicação.\n",
    "\n",
    "Dica: desta vez, estamos lidando com uma quantidade relativamente grande de classes, então pode ser interessante exibir a *Confusion Matrix* utilizando escala de cinza para representar os valores de cada célula da matriz; para fazer isso, prefira utilizar a função **imshow** com o mapa de cores (argumento **cmap**) do tipo **'Greys'**.\n",
    "\n",
    "**EXTRA**: tente fazer um caso com *Bootstrap* em vez de *k-Fold*, então comente sobre o método e os resultados."
   ]
  },
  {
   "cell_type": "markdown",
   "metadata": {},
   "source": [
    "## Desenvolvimento"
   ]
  },
  {
   "cell_type": "markdown",
   "metadata": {},
   "source": [
    "# Data Prep\n",
    "Nas duas primeiras células, importamos as **Olivetti Faces** e atribuimos à váriavel _olivetti_faces_."
   ]
  },
  {
   "cell_type": "code",
   "execution_count": 1,
   "metadata": {},
   "outputs": [],
   "source": [
    "from sklearn.datasets import fetch_olivetti_faces\n",
    "\n",
    "olivetti_faces = fetch_olivetti_faces()"
   ]
  },
  {
   "cell_type": "code",
   "execution_count": 38,
   "metadata": {
    "scrolled": true
   },
   "outputs": [
    {
     "name": "stdout",
     "output_type": "stream",
     "text": [
      "{'data': array([[0.30991736, 0.3677686 , 0.41735536, ..., 0.15289256, 0.16115703,\n",
      "        0.1570248 ],\n",
      "       [0.45454547, 0.47107437, 0.5123967 , ..., 0.15289256, 0.15289256,\n",
      "        0.15289256],\n",
      "       [0.3181818 , 0.40082645, 0.49173555, ..., 0.14049587, 0.14876033,\n",
      "        0.15289256],\n",
      "       ...,\n",
      "       [0.5       , 0.53305787, 0.607438  , ..., 0.17768595, 0.14876033,\n",
      "        0.19008264],\n",
      "       [0.21487603, 0.21900827, 0.21900827, ..., 0.57438016, 0.59090906,\n",
      "        0.60330576],\n",
      "       [0.5165289 , 0.46280992, 0.28099173, ..., 0.35950413, 0.3553719 ,\n",
      "        0.38429752]], dtype=float32), 'images': array([[[0.30991736, 0.3677686 , 0.41735536, ..., 0.37190083,\n",
      "         0.3305785 , 0.30578512],\n",
      "        [0.3429752 , 0.40495867, 0.43801653, ..., 0.37190083,\n",
      "         0.338843  , 0.3140496 ],\n",
      "        [0.3429752 , 0.41735536, 0.45041323, ..., 0.38016528,\n",
      "         0.338843  , 0.29752067],\n",
      "        ...,\n",
      "        [0.21487603, 0.20661157, 0.2231405 , ..., 0.15289256,\n",
      "         0.16528925, 0.17355372],\n",
      "        [0.20247933, 0.2107438 , 0.2107438 , ..., 0.14876033,\n",
      "         0.16115703, 0.16528925],\n",
      "        [0.20247933, 0.20661157, 0.20247933, ..., 0.15289256,\n",
      "         0.16115703, 0.1570248 ]],\n",
      "\n",
      "       [[0.45454547, 0.47107437, 0.5123967 , ..., 0.19008264,\n",
      "         0.18595041, 0.18595041],\n",
      "        [0.446281  , 0.48347107, 0.5206612 , ..., 0.21487603,\n",
      "         0.2107438 , 0.2107438 ],\n",
      "        [0.49586776, 0.5165289 , 0.53305787, ..., 0.20247933,\n",
      "         0.20661157, 0.20661157],\n",
      "        ...,\n",
      "        [0.77272725, 0.78099173, 0.7933884 , ..., 0.1446281 ,\n",
      "         0.1446281 , 0.1446281 ],\n",
      "        [0.77272725, 0.7768595 , 0.7892562 , ..., 0.13636364,\n",
      "         0.13636364, 0.13636364],\n",
      "        [0.7644628 , 0.7892562 , 0.78099173, ..., 0.15289256,\n",
      "         0.15289256, 0.15289256]],\n",
      "\n",
      "       [[0.3181818 , 0.40082645, 0.49173555, ..., 0.40082645,\n",
      "         0.3553719 , 0.30991736],\n",
      "        [0.30991736, 0.3966942 , 0.47933885, ..., 0.40495867,\n",
      "         0.37603307, 0.30165288],\n",
      "        [0.26859504, 0.34710744, 0.45454547, ..., 0.3966942 ,\n",
      "         0.37190083, 0.30991736],\n",
      "        ...,\n",
      "        [0.1322314 , 0.09917355, 0.08264463, ..., 0.13636364,\n",
      "         0.14876033, 0.15289256],\n",
      "        [0.11570248, 0.09504132, 0.0785124 , ..., 0.1446281 ,\n",
      "         0.1446281 , 0.1570248 ],\n",
      "        [0.11157025, 0.09090909, 0.0785124 , ..., 0.14049587,\n",
      "         0.14876033, 0.15289256]],\n",
      "\n",
      "       ...,\n",
      "\n",
      "       [[0.5       , 0.53305787, 0.607438  , ..., 0.28512397,\n",
      "         0.23966943, 0.21487603],\n",
      "        [0.49173555, 0.5413223 , 0.60330576, ..., 0.29752067,\n",
      "         0.20247933, 0.20661157],\n",
      "        [0.46694216, 0.55785125, 0.6198347 , ..., 0.29752067,\n",
      "         0.17768595, 0.18595041],\n",
      "        ...,\n",
      "        [0.03305785, 0.46280992, 0.5289256 , ..., 0.17355372,\n",
      "         0.17355372, 0.1694215 ],\n",
      "        [0.1570248 , 0.5247934 , 0.53305787, ..., 0.16528925,\n",
      "         0.1570248 , 0.18595041],\n",
      "        [0.45454547, 0.5206612 , 0.53305787, ..., 0.17768595,\n",
      "         0.14876033, 0.19008264]],\n",
      "\n",
      "       [[0.21487603, 0.21900827, 0.21900827, ..., 0.71487606,\n",
      "         0.71487606, 0.6942149 ],\n",
      "        [0.20247933, 0.20661157, 0.20661157, ..., 0.7107438 ,\n",
      "         0.7066116 , 0.6942149 ],\n",
      "        [0.2107438 , 0.20661157, 0.20661157, ..., 0.6859504 ,\n",
      "         0.69008267, 0.6942149 ],\n",
      "        ...,\n",
      "        [0.2644628 , 0.25619835, 0.2603306 , ..., 0.5413223 ,\n",
      "         0.57438016, 0.59090906],\n",
      "        [0.26859504, 0.2644628 , 0.26859504, ..., 0.56198347,\n",
      "         0.58264464, 0.59504133],\n",
      "        [0.27272728, 0.26859504, 0.27272728, ..., 0.57438016,\n",
      "         0.59090906, 0.60330576]],\n",
      "\n",
      "       [[0.5165289 , 0.46280992, 0.28099173, ..., 0.5785124 ,\n",
      "         0.5413223 , 0.60330576],\n",
      "        [0.5165289 , 0.45041323, 0.29338843, ..., 0.58264464,\n",
      "         0.553719  , 0.5785124 ],\n",
      "        [0.5165289 , 0.44214877, 0.29338843, ..., 0.59917355,\n",
      "         0.5785124 , 0.54545456],\n",
      "        ...,\n",
      "        [0.39256197, 0.41322315, 0.38842976, ..., 0.33471075,\n",
      "         0.37190083, 0.3966942 ],\n",
      "        [0.39256197, 0.38429752, 0.40495867, ..., 0.3305785 ,\n",
      "         0.35950413, 0.37603307],\n",
      "        [0.3677686 , 0.40495867, 0.3966942 , ..., 0.35950413,\n",
      "         0.3553719 , 0.38429752]]], dtype=float32), 'target': array([ 0,  0,  0,  0,  0,  0,  0,  0,  0,  0,  1,  1,  1,  1,  1,  1,  1,\n",
      "        1,  1,  1,  2,  2,  2,  2,  2,  2,  2,  2,  2,  2,  3,  3,  3,  3,\n",
      "        3,  3,  3,  3,  3,  3,  4,  4,  4,  4,  4,  4,  4,  4,  4,  4,  5,\n",
      "        5,  5,  5,  5,  5,  5,  5,  5,  5,  6,  6,  6,  6,  6,  6,  6,  6,\n",
      "        6,  6,  7,  7,  7,  7,  7,  7,  7,  7,  7,  7,  8,  8,  8,  8,  8,\n",
      "        8,  8,  8,  8,  8,  9,  9,  9,  9,  9,  9,  9,  9,  9,  9, 10, 10,\n",
      "       10, 10, 10, 10, 10, 10, 10, 10, 11, 11, 11, 11, 11, 11, 11, 11, 11,\n",
      "       11, 12, 12, 12, 12, 12, 12, 12, 12, 12, 12, 13, 13, 13, 13, 13, 13,\n",
      "       13, 13, 13, 13, 14, 14, 14, 14, 14, 14, 14, 14, 14, 14, 15, 15, 15,\n",
      "       15, 15, 15, 15, 15, 15, 15, 16, 16, 16, 16, 16, 16, 16, 16, 16, 16,\n",
      "       17, 17, 17, 17, 17, 17, 17, 17, 17, 17, 18, 18, 18, 18, 18, 18, 18,\n",
      "       18, 18, 18, 19, 19, 19, 19, 19, 19, 19, 19, 19, 19, 20, 20, 20, 20,\n",
      "       20, 20, 20, 20, 20, 20, 21, 21, 21, 21, 21, 21, 21, 21, 21, 21, 22,\n",
      "       22, 22, 22, 22, 22, 22, 22, 22, 22, 23, 23, 23, 23, 23, 23, 23, 23,\n",
      "       23, 23, 24, 24, 24, 24, 24, 24, 24, 24, 24, 24, 25, 25, 25, 25, 25,\n",
      "       25, 25, 25, 25, 25, 26, 26, 26, 26, 26, 26, 26, 26, 26, 26, 27, 27,\n",
      "       27, 27, 27, 27, 27, 27, 27, 27, 28, 28, 28, 28, 28, 28, 28, 28, 28,\n",
      "       28, 29, 29, 29, 29, 29, 29, 29, 29, 29, 29, 30, 30, 30, 30, 30, 30,\n",
      "       30, 30, 30, 30, 31, 31, 31, 31, 31, 31, 31, 31, 31, 31, 32, 32, 32,\n",
      "       32, 32, 32, 32, 32, 32, 32, 33, 33, 33, 33, 33, 33, 33, 33, 33, 33,\n",
      "       34, 34, 34, 34, 34, 34, 34, 34, 34, 34, 35, 35, 35, 35, 35, 35, 35,\n",
      "       35, 35, 35, 36, 36, 36, 36, 36, 36, 36, 36, 36, 36, 37, 37, 37, 37,\n",
      "       37, 37, 37, 37, 37, 37, 38, 38, 38, 38, 38, 38, 38, 38, 38, 38, 39,\n",
      "       39, 39, 39, 39, 39, 39, 39, 39, 39]), 'DESCR': '.. _olivetti_faces_dataset:\\n\\nThe Olivetti faces dataset\\n--------------------------\\n\\n`This dataset contains a set of face images`_ taken between April 1992 and \\nApril 1994 at AT&T Laboratories Cambridge. The\\n:func:`sklearn.datasets.fetch_olivetti_faces` function is the data\\nfetching / caching function that downloads the data\\narchive from AT&T.\\n\\n.. _This dataset contains a set of face images: http://www.cl.cam.ac.uk/research/dtg/attarchive/facedatabase.html\\n\\nAs described on the original website:\\n\\n    There are ten different images of each of 40 distinct subjects. For some\\n    subjects, the images were taken at different times, varying the lighting,\\n    facial expressions (open / closed eyes, smiling / not smiling) and facial\\n    details (glasses / no glasses). All the images were taken against a dark\\n    homogeneous background with the subjects in an upright, frontal position \\n    (with tolerance for some side movement).\\n\\n**Data Set Characteristics:**\\n\\n    =================   =====================\\n    Classes                                40\\n    Samples total                         400\\n    Dimensionality                       4096\\n    Features            real, between 0 and 1\\n    =================   =====================\\n\\nThe image is quantized to 256 grey levels and stored as unsigned 8-bit \\nintegers; the loader will convert these to floating point values on the \\ninterval [0, 1], which are easier to work with for many algorithms.\\n\\nThe \"target\" for this database is an integer from 0 to 39 indicating the\\nidentity of the person pictured; however, with only 10 examples per class, this\\nrelatively small dataset is more interesting from an unsupervised or\\nsemi-supervised perspective.\\n\\nThe original dataset consisted of 92 x 112, while the version available here\\nconsists of 64x64 images.\\n\\nWhen using these images, please give credit to AT&T Laboratories Cambridge.\\n'}\n"
     ]
    }
   ],
   "source": [
    "print(olivetti_faces)"
   ]
  },
  {
   "cell_type": "markdown",
   "metadata": {},
   "source": [
    "Criamos uma nova váriavel pegando apenas as informações necessárias da variável e printamos uma imagem para testarmos."
   ]
  },
  {
   "cell_type": "code",
   "execution_count": 24,
   "metadata": {
    "scrolled": false
   },
   "outputs": [
    {
     "data": {
      "text/plain": [
       "<matplotlib.image.AxesImage at 0x1f65d43fe80>"
      ]
     },
     "execution_count": 24,
     "metadata": {},
     "output_type": "execute_result"
    },
    {
     "data": {
      "image/png": "[encoded data removed]",
      "text/plain": [
       "<Figure size 432x288 with 1 Axes>"
      ]
     },
     "metadata": {
      "needs_background": "light"
     },
     "output_type": "display_data"
    }
   ],
   "source": [
    "import matplotlib.pyplot as plt\n",
    "\n",
    "olivetti_faces_img = olivetti_faces.images\n",
    "plt.imshow(olivetti_faces_img[0])"
   ]
  },
  {
   "cell_type": "markdown",
   "metadata": {},
   "source": [
    "Redimensionamos a lista de imagens para deixar unidimensional e definimos a variável alvo (eixo y)."
   ]
  },
  {
   "cell_type": "code",
   "execution_count": 84,
   "metadata": {},
   "outputs": [
    {
     "data": {
      "image/png": "[encoded data removed]",
      "text/plain": [
       "<Figure size 432x288 with 1 Axes>"
      ]
     },
     "metadata": {
      "needs_background": "light"
     },
     "output_type": "display_data"
    }
   ],
   "source": [
    "import numpy as np\n",
    "\n",
    "faces_img = np.reshape(olivetti_faces_img, (olivetti_faces_img.shape[0], olivetti_faces_img.shape[1]*olivetti_faces_img.shape[2]))\n",
    "\n",
    "plt.imshow(faces_img)\n",
    "\n",
    "faces_target = olivetti_faces.target"
   ]
  },
  {
   "cell_type": "markdown",
   "metadata": {},
   "source": [
    "# MLPClassifier com train_test_split\n",
    "Dividimos nossa amostra em teste (10%) e treino com o **train_test_split** e treinamos uma Rede Neural de **MLPClassifier** com 250 camadas."
   ]
  },
  {
   "cell_type": "code",
   "execution_count": 72,
   "metadata": {},
   "outputs": [
    {
     "data": {
      "text/plain": [
       "MLPClassifier(hidden_layer_sizes=250, solver='lbfgs')"
      ]
     },
     "execution_count": 72,
     "metadata": {},
     "output_type": "execute_result"
    }
   ],
   "source": [
    "from sklearn.model_selection import train_test_split, KFold\n",
    "\n",
    "x_train, x_test, y_train, y_test = train_test_split(faces_img, faces_target, test_size=0.10, random_state=930)\n",
    "\n",
    "from sklearn.neural_network import MLPClassifier\n",
    "ANN = MLPClassifier(solver = 'lbfgs', hidden_layer_sizes=(250))\n",
    "ANN.fit(x_train, y_train)"
   ]
  },
  {
   "cell_type": "markdown",
   "metadata": {},
   "source": [
    "Testamos nossa Rede Neural e calculamos o valor de acurácia e sua matriz de confusão."
   ]
  },
  {
   "cell_type": "code",
   "execution_count": 73,
   "metadata": {},
   "outputs": [
    {
     "data": {
      "text/plain": [
       "<matplotlib.image.AxesImage at 0x1f6066b2970>"
      ]
     },
     "execution_count": 73,
     "metadata": {},
     "output_type": "execute_result"
    },
    {
     "data": {
      "image/png": "[encoded data removed]",
      "text/plain": [
       "<Figure size 432x288 with 1 Axes>"
      ]
     },
     "metadata": {
      "needs_background": "light"
     },
     "output_type": "display_data"
    }
   ],
   "source": [
    "from sklearn.metrics import accuracy_score\n",
    "from sklearn.metrics import confusion_matrix\n",
    "\n",
    "y_pred_ANN = ANN.predict(x_test)\n",
    "acc_score = accuracy_score(y_test, y_pred_ANN)\n",
    "conf_matrix = confusion_matrix(y_test, y_pred_ANN)\n",
    "plt.imshow(conf_matrix, cmap='Greys')"
   ]
  },
  {
   "cell_type": "code",
   "execution_count": 74,
   "metadata": {
    "scrolled": true
   },
   "outputs": [
    {
     "name": "stdout",
     "output_type": "stream",
     "text": [
      "Acurácia do MLPClassifier com SplitTest:  0.97\n"
     ]
    }
   ],
   "source": [
    "print('Acurácia do MLPClassifier com SplitTest: ', acc_score)"
   ]
  },
  {
   "cell_type": "markdown",
   "metadata": {},
   "source": [
    "# MLPClassifier com KFold\n",
    "\n",
    "Usamos uma lista para acurácia e uma para as matriz de confusão de cada dobra.\n",
    "\n",
    "Usamos então um KFold de 10 dobras e uma Rede Neural de MLPClassifier com também 250 camadas. A cada dobra, treinamos a rede neural e calculamos sua acurácia e matriz de confusão."
   ]
  },
  {
   "cell_type": "code",
   "execution_count": 78,
   "metadata": {},
   "outputs": [],
   "source": [
    "acc = []\n",
    "confusion = []\n",
    "\n",
    "kf = KFold(n_splits=10, random_state=None, shuffle=True)\n",
    "ANN2 = MLPClassifier(solver='lbfgs', hidden_layer_sizes=(250))\n",
    "\n",
    "for (train, test) in kf.split(faces_img, faces_target):\n",
    "    ANN2.fit(faces_img[train], faces_target[train])\n",
    "    \n",
    "    y_pred_ANN2 = ANN2.predict(faces_img[test])\n",
    "    \n",
    "    acc.append(accuracy_score(faces_target[test], y_pred_ANN2))\n",
    "    confusion.append(confusion_matrix(faces_target[test], y_pred_ANN2))"
   ]
  },
  {
   "cell_type": "code",
   "execution_count": 85,
   "metadata": {
    "scrolled": true
   },
   "outputs": [
    {
     "name": "stdout",
     "output_type": "stream",
     "text": [
      "Cada dobra teve acurácia de: \n",
      "[0.925, 1.0, 1.0, 0.925, 0.9, 0.925, 0.825, 0.9, 0.9, 0.9]\n"
     ]
    }
   ],
   "source": [
    "print(\"Cada dobra teve acurácia de: \")\n",
    "print(acc)"
   ]
  },
  {
   "cell_type": "markdown",
   "metadata": {},
   "source": [
    "Agora analisamos a acurácia e matriz de confusão com o melhor resultado:"
   ]
  },
  {
   "cell_type": "code",
   "execution_count": 83,
   "metadata": {},
   "outputs": [
    {
     "name": "stdout",
     "output_type": "stream",
     "text": [
      "Acurácia Máxima do KFold de:  1.0\n",
      "Para a dobra:  2\n"
     ]
    },
    {
     "data": {
      "text/plain": [
       "<matplotlib.image.AxesImage at 0x1f61deb5400>"
      ]
     },
     "execution_count": 83,
     "metadata": {},
     "output_type": "execute_result"
    },
    {
     "data": {
      "image/png": "[encoded data removed]",
      "text/plain": [
       "<Figure size 432x288 with 1 Axes>"
      ]
     },
     "metadata": {
      "needs_background": "light"
     },
     "output_type": "display_data"
    }
   ],
   "source": [
    "print('Acurácia Máxima do KFold foi de: ', np.amax(acc))\n",
    "print('Na dobra: ', np.argmax(acc)+1)\n",
    "\n",
    "plt.imshow(confusion[np.argmax(acc)], cmap='Greys')"
   ]
  },
  {
   "cell_type": "markdown",
   "metadata": {},
   "source": [
    "## Questões"
   ]
  },
  {
   "cell_type": "markdown",
   "metadata": {},
   "source": [
    "### 1. O classificador escolhido por você obteve um bom desempenho em sua opinião? Por que?"
   ]
  },
  {
   "cell_type": "markdown",
   "metadata": {},
   "source": [
    "Sim, considerando a quantidade de features e de dados o desempenho foi satisfatório. Seria interessante repetir o procedimento com menos camadas para análiser como isso poderia impactar no desempenho, pois há a possibilidade de \"overfitting\"."
   ]
  },
  {
   "cell_type": "markdown",
   "metadata": {},
   "source": [
    "### 2. Além da acurácia e da matriz de confusão, quais métricas e recursos poderiam ser utilizados para avaliar o seu classificador?"
   ]
  },
  {
   "cell_type": "markdown",
   "metadata": {},
   "source": [
    "É possível também usar Recall, Precisão, F1 Score (combinação de precisão e recall) ou análise da curva roc."
   ]
  },
  {
   "cell_type": "markdown",
   "metadata": {},
   "source": [
    "### 3. O seu classificador obteve um desempenho notoriamente superior ou inferior para alguma das classes? Para qual(is)? Por que você acredita que isso ocorreu?"
   ]
  },
  {
   "cell_type": "markdown",
   "metadata": {},
   "source": [
    "As classes com pontos mais escuros na matriz de confusão apresentaram desempenho superior, porque provavelmente o algoritmo foi capaz de achar uma correlação de padrões mais sólidas nessas classes."
   ]
  },
  {
   "cell_type": "markdown",
   "metadata": {},
   "source": [
    "### 4. O que se poderia fazer para melhorar o desempenho de seu classificador?"
   ]
  },
  {
   "cell_type": "markdown",
   "metadata": {},
   "source": [
    "Há uma série de possibilidades aqui, otimizar o valor de camadas da rede, tunar os hiperparametros do classificador e até utilizar um pipeline para fazer benchmark de diversos classificadores. É desejável também uma vez finalizando esses testes comparar a classificação final treinando com todos os dados e testando em um novo conjunto de dados não vistos (caso possível)."
   ]
  },
  {
   "cell_type": "markdown",
   "metadata": {},
   "source": [
    "### 5. Se fosse utilizada apenas metade da base de dados deste exercício em vez de ela toda, mas mantendo as proporções para os dados de treinamento e teste, os resultados sofreriam alguma mudança significativa? Se sim, quais e em qual intensidade?"
   ]
  },
  {
   "cell_type": "markdown",
   "metadata": {},
   "source": [
    "Com menos dados é possível que haja um decrescimento da acurácia pois menos dados estão sendo vistos para o treinamento, porém o fato de treinarmos com 10% dos dados e ja ter uma alta acurácia mesmo em dados não vistos (base de testes) nos indica de que essa queda não seria tão brusca se ainda mantivermos a proporção."
   ]
  },
  {
   "cell_type": "markdown",
   "metadata": {},
   "source": [
    "### 6. Para quê servem métodos como k-Fold e Bootstrap? Você observou alguma mudança significativa por conta de sua utilização? Se sim, qual? E a quê se deve isso?"
   ]
  },
  {
   "cell_type": "markdown",
   "metadata": {},
   "source": [
    "K-fold serve para dividir a base em diversos grupos, treinar com um e testar com o restante de forma a no fim selecionar o fold que mais nos deu informação sobre o conjunto, é também uma forma de tratar bases com distribuição desigual para maximizar o ganho de informação. Já o bootstrap é uma técnica de reforçar o aprendizado de algumas características importantes com pouca representatividade na base acrescentando mais casos \"forjados\" com base em casos reais. Também é uma técnica interessante a ser usada quando há poucos dados disponíveis. Tais métodos nos ajudam a treinar nosso classificador de uma forma melhor. Quando utilizamos o k-Fold, a acurácia, que já era consideravelmente alta, aumentou mais um pouco."
   ]
  },
  {
   "cell_type": "markdown",
   "metadata": {},
   "source": [
    "## Referências"
   ]
  },
  {
   "cell_type": "markdown",
   "metadata": {},
   "source": [
    "[Scikit-Learn - Datasets - Olivetti Faces](http://scikit-learn.org/stable/modules/generated/sklearn.datasets.fetch_olivetti_faces.html)\n",
    "\n",
    "[Matplotlib - Pyplot](https://matplotlib.org/api/pyplot_summary.html)\n",
    "\n",
    "[Numpy](https://docs.scipy.org/doc/numpy/reference/)\n",
    "\n",
    "[Scikit-Learn - Train, Test and Split](http://scikit-learn.org/stable/modules/generated/sklearn.model_selection.train_test_split.html)\n",
    "\n",
    "[Scikit-Learn - KFold](http://scikit-learn.org/stable/modules/generated/sklearn.model_selection.KFold.html#sklearn.model_selection.KFold)\n",
    "\n",
    "[Scikit-Learn - Resample (Bootstrap)](http://scikit-learn.org/stable/modules/generated/sklearn.utils.resample.html)\n",
    "\n",
    "[Scikit-Learn - KNeighborsClassifier](http://scikit-learn.org/stable/modules/generated/sklearn.neighbors.KNeighborsClassifier.html)\n",
    "\n",
    "[Scikit-Learn - DecisionTreeClassifier](http://scikit-learn.org/stable/modules/generated/sklearn.tree.DecisionTreeClassifier.html)\n",
    "\n",
    "[Scikit-Learn - LinearDiscriminantAnalysis](http://scikit-learn.org/stable/modules/generated/sklearn.discriminant_analysis.LinearDiscriminantAnalysis.html)\n",
    "\n",
    "[Scikit-Learn - LinearSVC](http://scikit-learn.org/stable/modules/generated/sklearn.svm.LinearSVC.html#sklearn.svm.LinearSVC)\n",
    "\n",
    "[Scikit-Learn - MLPClassifier](http://scikit-learn.org/stable/modules/generated/sklearn.neural_network.MLPClassifier.html#sklearn.neural_network.MLPClassifier)\n",
    "\n",
    "[Scikit-Learn - Accuracy Score](http://scikit-learn.org/stable/modules/generated/sklearn.metrics.accuracy_score.html)\n",
    "\n",
    "[Scikit-Learn - Confusion Matrix](http://scikit-learn.org/stable/modules/generated/sklearn.metrics.confusion_matrix.html)"
   ]
  }
 ],
 "metadata": {
  "kernelspec": {
   "display_name": "Python 3",
   "language": "python",
   "name": "python3"
  },
  "language_info": {
   "codemirror_mode": {
    "name": "ipython",
    "version": 3
   },
   "file_extension": ".py",
   "mimetype": "text/x-python",
   "name": "python",
   "nbconvert_exporter": "python",
   "pygments_lexer": "ipython3",
   "version": "3.8.3"
  }
 },
 "nbformat": 4,
 "nbformat_minor": 2
}
