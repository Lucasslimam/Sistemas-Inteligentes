{
 "cells": [
  {
   "cell_type": "markdown",
   "metadata": {
    "colab_type": "text",
    "id": "yE4-oPFbHzVJ"
   },
   "source": [
    "# Sistemas Inteligentes\n",
    "\n",
    "## Lab 1 - Introdução\n",
    "\n",
    "* Metodologia de trabalho\n",
    "* Apresentação das ferramentas\n",
    "* Comandos usuais da linguagem Python"
   ]
  },
  {
   "cell_type": "markdown",
   "metadata": {
    "colab_type": "text",
    "id": "wRPwUOSYHzVK"
   },
   "source": [
    "### Identificação do Aluno"
   ]
  },
  {
   "cell_type": "markdown",
   "metadata": {
    "colab_type": "text",
    "id": "tgG8qEXyHzVL"
   },
   "source": [
    "#### Nome Completo"
   ]
  },
  {
   "cell_type": "markdown",
   "metadata": {
    "colab_type": "text",
    "id": "NWNBcQWzHzVM"
   },
   "source": [
    "Lucas da Silva de Lima"
   ]
  },
  {
   "cell_type": "markdown",
   "metadata": {
    "colab_type": "text",
    "id": "pxjwwroDHzVN"
   },
   "source": [
    "#### RA"
   ]
  },
  {
   "cell_type": "markdown",
   "metadata": {
    "colab_type": "text",
    "id": "B7ovlRBIHzVO"
   },
   "source": [
    "11201722101"
   ]
  },
  {
   "cell_type": "markdown",
   "metadata": {
    "colab_type": "text",
    "id": "ADgFi63qHzVP"
   },
   "source": [
    "## 1. Importando bibliotecas, pacotes e funções"
   ]
  },
  {
   "cell_type": "code",
   "execution_count": 1,
   "metadata": {
    "colab": {},
    "colab_type": "code",
    "id": "-IDcWU6AHzVQ"
   },
   "outputs": [],
   "source": [
    "# Biblioteca de álgebra linear\n",
    "import numpy as np\n",
    "\n",
    "# Pacote de funções para plot\n",
    "import matplotlib.pyplot as plt\n",
    "\n",
    "# Função de Mínimos Quadrados ('Least Squares')\n",
    "from scipy.linalg import lstsq"
   ]
  },
  {
   "cell_type": "markdown",
   "metadata": {
    "colab_type": "text",
    "id": "H6iU7WOgHzVU"
   },
   "source": [
    "<font color='red'>**Exercício:**</font>  importe a função **hamming** do pacote **signal** pertencente à biblioteca **scipy** já apelidando-a como \"ham\"."
   ]
  },
  {
   "cell_type": "code",
   "execution_count": 2,
   "metadata": {
    "colab": {},
    "colab_type": "code",
    "id": "FEyZs9KNHzVV"
   },
   "outputs": [],
   "source": [
    "from scipy.signal import hamming as ham"
   ]
  },
  {
   "cell_type": "markdown",
   "metadata": {
    "colab_type": "text",
    "id": "50BMBV0bHzVY"
   },
   "source": [
    "## 2. Tipos de dados"
   ]
  },
  {
   "cell_type": "markdown",
   "metadata": {
    "colab_type": "text",
    "id": "KGKiKcOUHzVZ"
   },
   "source": [
    "### 2.1. Inteiro"
   ]
  },
  {
   "cell_type": "code",
   "execution_count": 3,
   "metadata": {
    "colab": {
     "base_uri": "https://localhost:8080/",
     "height": 33
    },
    "colab_type": "code",
    "executionInfo": {
     "elapsed": 1429,
     "status": "ok",
     "timestamp": 1569259036127,
     "user": {
      "displayName": "Luneque Silva Junior",
      "photoUrl": "https://lh3.googleusercontent.com/a-/AAuE7mCtDwTav4dOFMl9OPvyMSrHuIscMJCEMTxTSYZu=s64",
      "userId": "05367922559881371579"
     },
     "user_tz": 180
    },
    "id": "A1Uqg-etHzVa",
    "outputId": "f2df915f-1171-41e8-982b-b74b1d59cba4"
   },
   "outputs": [
    {
     "data": {
      "text/plain": [
       "int"
      ]
     },
     "execution_count": 3,
     "metadata": {},
     "output_type": "execute_result"
    }
   ],
   "source": [
    "type(3)"
   ]
  },
  {
   "cell_type": "markdown",
   "metadata": {
    "colab_type": "text",
    "id": "u6t5oIP3HzVd"
   },
   "source": [
    "### 2.2. Float"
   ]
  },
  {
   "cell_type": "code",
   "execution_count": 4,
   "metadata": {
    "colab": {},
    "colab_type": "code",
    "id": "4BiM85XSHzVe"
   },
   "outputs": [
    {
     "data": {
      "text/plain": [
       "float"
      ]
     },
     "execution_count": 4,
     "metadata": {},
     "output_type": "execute_result"
    }
   ],
   "source": [
    "type(3.23213)"
   ]
  },
  {
   "cell_type": "markdown",
   "metadata": {
    "colab_type": "text",
    "id": "mjxbh0orHzVh"
   },
   "source": [
    "### 2.3. String"
   ]
  },
  {
   "cell_type": "code",
   "execution_count": 5,
   "metadata": {
    "colab": {},
    "colab_type": "code",
    "id": "xpHlqcK_HzVi"
   },
   "outputs": [
    {
     "data": {
      "text/plain": [
       "str"
      ]
     },
     "execution_count": 5,
     "metadata": {},
     "output_type": "execute_result"
    }
   ],
   "source": [
    "type('Testing')"
   ]
  },
  {
   "cell_type": "markdown",
   "metadata": {
    "colab_type": "text",
    "id": "afSjJuSCHzVl"
   },
   "source": [
    "### 2.4. List"
   ]
  },
  {
   "cell_type": "code",
   "execution_count": 6,
   "metadata": {
    "colab": {},
    "colab_type": "code",
    "id": "FYY-0vBIHzVn"
   },
   "outputs": [
    {
     "data": {
      "text/plain": [
       "list"
      ]
     },
     "execution_count": 6,
     "metadata": {},
     "output_type": "execute_result"
    }
   ],
   "source": [
    "type([1,2,3])"
   ]
  },
  {
   "cell_type": "markdown",
   "metadata": {
    "colab_type": "text",
    "id": "D6zaF8QQHzVr"
   },
   "source": [
    "### 2.5. Array"
   ]
  },
  {
   "cell_type": "code",
   "execution_count": 7,
   "metadata": {
    "colab": {},
    "colab_type": "code",
    "id": "I8FGJyCiHzVs"
   },
   "outputs": [
    {
     "data": {
      "text/plain": [
       "numpy.ndarray"
      ]
     },
     "execution_count": 7,
     "metadata": {},
     "output_type": "execute_result"
    }
   ],
   "source": [
    "type(np.array([1,2,3]))"
   ]
  },
  {
   "cell_type": "markdown",
   "metadata": {
    "colab_type": "text",
    "id": "BCWXsUz-HzVv"
   },
   "source": [
    "<font color='red'>**Exercício:**</font>  Crie uma variável ou estrutura de qualquer tipo, então verifique se ela está, de fato, com o tipo almejado por você no ato da criação."
   ]
  },
  {
   "cell_type": "code",
   "execution_count": 8,
   "metadata": {
    "colab": {},
    "colab_type": "code",
    "id": "dbxyST2zHzVw"
   },
   "outputs": [
    {
     "data": {
      "text/plain": [
       "list"
      ]
     },
     "execution_count": 8,
     "metadata": {},
     "output_type": "execute_result"
    }
   ],
   "source": [
    "a = ['Ola', 'Mundo']\n",
    "type(a)"
   ]
  },
  {
   "cell_type": "markdown",
   "metadata": {
    "colab_type": "text",
    "id": "bJxbu_DwHzVz"
   },
   "source": [
    "## 3. Operações básicas"
   ]
  },
  {
   "cell_type": "markdown",
   "metadata": {
    "colab_type": "text",
    "id": "y2GsTtFsHzV0"
   },
   "source": [
    "### 3.1. Soma"
   ]
  },
  {
   "cell_type": "code",
   "execution_count": 9,
   "metadata": {
    "colab": {},
    "colab_type": "code",
    "id": "FHkV3Ve3HzV1"
   },
   "outputs": [
    {
     "data": {
      "text/plain": [
       "14"
      ]
     },
     "execution_count": 9,
     "metadata": {},
     "output_type": "execute_result"
    }
   ],
   "source": [
    "5 + 9"
   ]
  },
  {
   "cell_type": "markdown",
   "metadata": {
    "colab_type": "text",
    "id": "cyZf5vCjHzV3"
   },
   "source": [
    "### 3.2. Subtração"
   ]
  },
  {
   "cell_type": "code",
   "execution_count": 10,
   "metadata": {
    "colab": {},
    "colab_type": "code",
    "id": "9EDYs1sQHzV4"
   },
   "outputs": [
    {
     "data": {
      "text/plain": [
       "-4"
      ]
     },
     "execution_count": 10,
     "metadata": {},
     "output_type": "execute_result"
    }
   ],
   "source": [
    "3 - 7"
   ]
  },
  {
   "cell_type": "markdown",
   "metadata": {
    "colab_type": "text",
    "id": "XmaFQcu-HzV7"
   },
   "source": [
    "### 3.3. Multiplicação"
   ]
  },
  {
   "cell_type": "code",
   "execution_count": 11,
   "metadata": {
    "colab": {},
    "colab_type": "code",
    "id": "LNcfpFYmHzV8"
   },
   "outputs": [
    {
     "data": {
      "text/plain": [
       "8"
      ]
     },
     "execution_count": 11,
     "metadata": {},
     "output_type": "execute_result"
    }
   ],
   "source": [
    "2 * 4"
   ]
  },
  {
   "cell_type": "markdown",
   "metadata": {
    "colab_type": "text",
    "id": "T7iB5Gr3HzV_"
   },
   "source": [
    "### 3.4. Divisão"
   ]
  },
  {
   "cell_type": "code",
   "execution_count": 12,
   "metadata": {
    "colab": {},
    "colab_type": "code",
    "id": "Gp8KecSQHzWA"
   },
   "outputs": [
    {
     "data": {
      "text/plain": [
       "5.0"
      ]
     },
     "execution_count": 12,
     "metadata": {},
     "output_type": "execute_result"
    }
   ],
   "source": [
    "15 / 3"
   ]
  },
  {
   "cell_type": "markdown",
   "metadata": {
    "colab_type": "text",
    "id": "6JxKtGZiHzWC"
   },
   "source": [
    "<font color='red'>**Exercício:**</font>  efetue algum cálculo envolvendo todas as operações básicas; tudo em uma mesma linha de código."
   ]
  },
  {
   "cell_type": "code",
   "execution_count": 14,
   "metadata": {
    "colab": {},
    "colab_type": "code",
    "id": "yTvB7dNzHzWD"
   },
   "outputs": [
    {
     "data": {
      "text/plain": [
       "-2.75"
      ]
     },
     "execution_count": 14,
     "metadata": {},
     "output_type": "execute_result"
    }
   ],
   "source": [
    "calculo = (1 + 2)*(3/4) - 5\n",
    "calculo"
   ]
  },
  {
   "cell_type": "markdown",
   "metadata": {
    "colab_type": "text",
    "id": "70RmtObIHzWH"
   },
   "source": [
    "## 4. Manipulações com Listas"
   ]
  },
  {
   "cell_type": "markdown",
   "metadata": {
    "colab_type": "text",
    "id": "7flDDuPpHzWI"
   },
   "source": [
    "### 4.1. Criando uma lista"
   ]
  },
  {
   "cell_type": "markdown",
   "metadata": {
    "colab_type": "text",
    "id": "9z13e5fPHzWJ"
   },
   "source": [
    "Estes são alguns exemplos típicos de listas em Python. L1 é uma lista simples; L2 é uma lista de listas de mesmo tamanho; L3 é uma lista de listas de diferentes tamanhos; e L4 é uma lista vazia."
   ]
  },
  {
   "cell_type": "code",
   "execution_count": 15,
   "metadata": {
    "colab": {},
    "colab_type": "code",
    "id": "7rA8y4u0HzWK"
   },
   "outputs": [],
   "source": [
    "L1 = [1, 3, 7, 29]\n",
    "\n",
    "L2 = [[1,2,3], [4,5,6], [7,8,9]]\n",
    "\n",
    "L3 = [[1], [2,3], [4,5,6]]\n",
    "\n",
    "L4 = []"
   ]
  },
  {
   "cell_type": "markdown",
   "metadata": {
    "colab_type": "text",
    "id": "ShWhftAkHzWP"
   },
   "source": [
    "### 4.2. Adicionando itens ao fim de uma lista"
   ]
  },
  {
   "cell_type": "code",
   "execution_count": 16,
   "metadata": {
    "colab": {},
    "colab_type": "code",
    "id": "IwmjWQaDHzWQ"
   },
   "outputs": [
    {
     "name": "stdout",
     "output_type": "stream",
     "text": [
      "[5, [1, 3], [[7, 2], [9, 0]]]\n"
     ]
    }
   ],
   "source": [
    "L_teste = []\n",
    "\n",
    "L_teste.append(5)\n",
    "L_teste.append([1,3])\n",
    "L_teste.append([[7,2], [9, 0]])\n",
    "\n",
    "\n",
    "print(L_teste)"
   ]
  },
  {
   "cell_type": "markdown",
   "metadata": {
    "colab_type": "text",
    "id": "wiSfhSGZHzWT"
   },
   "source": [
    "### 4.3. Adicionando o conteúdo de uma lista ao fim de outra"
   ]
  },
  {
   "cell_type": "code",
   "execution_count": 17,
   "metadata": {
    "colab": {},
    "colab_type": "code",
    "id": "eK06YQhpHzWU"
   },
   "outputs": [
    {
     "name": "stdout",
     "output_type": "stream",
     "text": [
      "[3, 4, 5]\n",
      "[3, 4, 5, 9, 1, 2, 3, 4, 1]\n"
     ]
    }
   ],
   "source": [
    "L_teste_1 = []\n",
    "\n",
    "L_teste_2 = [3,4,5]\n",
    "L_teste_3 = [9,1,2,3,4,1]\n",
    "\n",
    "L_teste_1.extend(L_teste_2)\n",
    "\n",
    "print(L_teste_1)\n",
    "\n",
    "L_teste_1.extend(L_teste_3)\n",
    "\n",
    "print(L_teste_1)"
   ]
  },
  {
   "cell_type": "markdown",
   "metadata": {
    "colab_type": "text",
    "id": "_jeT0lKyHzWW"
   },
   "source": [
    "### 4.4. Encontrando a posição do primeiro item com determinado valor na lista"
   ]
  },
  {
   "cell_type": "code",
   "execution_count": 18,
   "metadata": {
    "colab": {},
    "colab_type": "code",
    "id": "ZAZC2Tg7HzWX"
   },
   "outputs": [
    {
     "data": {
      "text/plain": [
       "3"
      ]
     },
     "execution_count": 18,
     "metadata": {},
     "output_type": "execute_result"
    }
   ],
   "source": [
    "L_teste = [7, 1, 2, 5, 2, 8, 9, 0, 3]\n",
    "\n",
    "L_teste.index(5)"
   ]
  },
  {
   "cell_type": "markdown",
   "metadata": {
    "colab_type": "text",
    "id": "GbTSR6NjHzWa"
   },
   "source": [
    "### 4.5. Ordenando os itens da lista"
   ]
  },
  {
   "cell_type": "code",
   "execution_count": 19,
   "metadata": {
    "colab": {},
    "colab_type": "code",
    "id": "pA27WBg6HzWb"
   },
   "outputs": [
    {
     "name": "stdout",
     "output_type": "stream",
     "text": [
      "[1, 3, 4, 6, 7, 9]\n",
      "[9, 7, 6, 4, 3, 1]\n"
     ]
    }
   ],
   "source": [
    "L_teste = [3, 1, 4, 6, 7, 9]\n",
    "\n",
    "L_teste.sort()\n",
    "\n",
    "print(L_teste)\n",
    "\n",
    "L_teste.sort(reverse=True)\n",
    "\n",
    "print(L_teste)"
   ]
  },
  {
   "cell_type": "markdown",
   "metadata": {
    "colab_type": "text",
    "id": "rO4lre__HzWd"
   },
   "source": [
    "<font color='red'>**Exercício:**</font> crie duas novas listas de diferentes tamanhos, então adicione os elementos da segunda lista ao final da primeira lista e imprima a lista resultante e a posição de um dos números dessa lista. Por fim, ordene a lista resultante e imprima a lista e a posição do mesmo valor."
   ]
  },
  {
   "cell_type": "code",
   "execution_count": 22,
   "metadata": {
    "colab": {},
    "colab_type": "code",
    "id": "EatgAtAHHzWe"
   },
   "outputs": [
    {
     "name": "stdout",
     "output_type": "stream",
     "text": [
      "lista resultante = [1, 3, 5, 4, 11, 9, 10]\n",
      "posicao do 9 na lista: 5\n",
      "lista ordenada = [1, 3, 4, 5, 9, 10, 11]\n",
      "posicao do 9 na lista ordenada: 4\n"
     ]
    }
   ],
   "source": [
    "list_a = [1,3,5,4]\n",
    "list_b = [11, 9,10]\n",
    "\n",
    "list_a.extend(list_b)\n",
    "pos = list_a.index(9)\n",
    "print(\"lista resultante = {}\".format(list_a))\n",
    "print(\"posicao do 9 na lista: {}\".format(pos))\n",
    "\n",
    "\n",
    "list_a.sort()\n",
    "pos = list_a.index(9)\n",
    "print(\"lista ordenada = {}\".format(list_a))\n",
    "print(\"posicao do 9 na lista ordenada: {}\".format(pos))"
   ]
  },
  {
   "cell_type": "markdown",
   "metadata": {
    "colab_type": "text",
    "id": "Cnb9ErlIHzWg"
   },
   "source": [
    "## 5. Manipulações com Arrays (vetores ou matrizes)"
   ]
  },
  {
   "cell_type": "markdown",
   "metadata": {
    "colab_type": "text",
    "id": "kHKIOq0NHzWh"
   },
   "source": [
    "### 5.1. Criando duas matrizes de dimensões 3x3"
   ]
  },
  {
   "cell_type": "code",
   "execution_count": 23,
   "metadata": {
    "colab": {},
    "colab_type": "code",
    "id": "ik5b0IBRHzWi"
   },
   "outputs": [],
   "source": [
    "A = np.array([ [3, 4, 5], [6, 7, 8], [9, 0, 1] ])\n",
    "B = np.array([ [0, 1, 2], [3, 4, 5], [6, 7, 8] ])"
   ]
  },
  {
   "cell_type": "markdown",
   "metadata": {
    "colab_type": "text",
    "id": "7SNcJdhJHzWk"
   },
   "source": [
    "### 5.2. Exibindo as matrizes"
   ]
  },
  {
   "cell_type": "markdown",
   "metadata": {
    "colab_type": "text",
    "id": "o9biPUgUHzWm"
   },
   "source": [
    "#### 5.2.1. Por completo"
   ]
  },
  {
   "cell_type": "code",
   "execution_count": 24,
   "metadata": {
    "colab": {},
    "colab_type": "code",
    "id": "1JDuo-9MHzWm"
   },
   "outputs": [
    {
     "data": {
      "text/plain": [
       "array([[3, 4, 5],\n",
       "       [6, 7, 8],\n",
       "       [9, 0, 1]])"
      ]
     },
     "execution_count": 24,
     "metadata": {},
     "output_type": "execute_result"
    }
   ],
   "source": [
    "A"
   ]
  },
  {
   "cell_type": "code",
   "execution_count": 25,
   "metadata": {
    "colab": {},
    "colab_type": "code",
    "id": "wgJTEXOaHzWp"
   },
   "outputs": [
    {
     "data": {
      "text/plain": [
       "array([[0, 1, 2],\n",
       "       [3, 4, 5],\n",
       "       [6, 7, 8]])"
      ]
     },
     "execution_count": 25,
     "metadata": {},
     "output_type": "execute_result"
    }
   ],
   "source": [
    "B"
   ]
  },
  {
   "cell_type": "markdown",
   "metadata": {
    "colab_type": "text",
    "id": "9lHYwhzYHzWr"
   },
   "source": [
    "#### 5.2.2. Parcialmente"
   ]
  },
  {
   "cell_type": "code",
   "execution_count": 26,
   "metadata": {
    "colab": {},
    "colab_type": "code",
    "id": "LIiZ_qpuHzWs"
   },
   "outputs": [
    {
     "data": {
      "text/plain": [
       "array([[3, 4],\n",
       "       [6, 7],\n",
       "       [9, 0]])"
      ]
     },
     "execution_count": 26,
     "metadata": {},
     "output_type": "execute_result"
    }
   ],
   "source": [
    "A[:, :2]"
   ]
  },
  {
   "cell_type": "code",
   "execution_count": 27,
   "metadata": {
    "colab": {},
    "colab_type": "code",
    "id": "B-YENdqlHzWv"
   },
   "outputs": [
    {
     "data": {
      "text/plain": [
       "array([4, 7])"
      ]
     },
     "execution_count": 27,
     "metadata": {},
     "output_type": "execute_result"
    }
   ],
   "source": [
    "B[1:, 1]"
   ]
  },
  {
   "cell_type": "markdown",
   "metadata": {
    "colab_type": "text",
    "id": "x85tWJ_UHzWx"
   },
   "source": [
    "### 5.3. Soma de matrizes"
   ]
  },
  {
   "cell_type": "code",
   "execution_count": 28,
   "metadata": {
    "colab": {},
    "colab_type": "code",
    "id": "LGiuzi4bHzWz"
   },
   "outputs": [
    {
     "data": {
      "text/plain": [
       "array([[ 3,  5,  7],\n",
       "       [ 9, 11, 13],\n",
       "       [15,  7,  9]])"
      ]
     },
     "execution_count": 28,
     "metadata": {},
     "output_type": "execute_result"
    }
   ],
   "source": [
    "A + B"
   ]
  },
  {
   "cell_type": "markdown",
   "metadata": {
    "colab_type": "text",
    "id": "jnOBEE7HHzW2"
   },
   "source": [
    "### 5.4. Subtração de matrizes"
   ]
  },
  {
   "cell_type": "code",
   "execution_count": 29,
   "metadata": {
    "colab": {},
    "colab_type": "code",
    "id": "avhf7Fd5HzW3"
   },
   "outputs": [
    {
     "data": {
      "text/plain": [
       "array([[ 3,  3,  3],\n",
       "       [ 3,  3,  3],\n",
       "       [ 3, -7, -7]])"
      ]
     },
     "execution_count": 29,
     "metadata": {},
     "output_type": "execute_result"
    }
   ],
   "source": [
    "A - B"
   ]
  },
  {
   "cell_type": "markdown",
   "metadata": {
    "colab_type": "text",
    "id": "U50OM0GNHzW5"
   },
   "source": [
    "### 5.5. Multiplicação de matriz por escalar"
   ]
  },
  {
   "cell_type": "code",
   "execution_count": 30,
   "metadata": {
    "colab": {},
    "colab_type": "code",
    "id": "M0pAkyrBHzW6"
   },
   "outputs": [
    {
     "data": {
      "text/plain": [
       "array([[ 6,  8, 10],\n",
       "       [12, 14, 16],\n",
       "       [18,  0,  2]])"
      ]
     },
     "execution_count": 30,
     "metadata": {},
     "output_type": "execute_result"
    }
   ],
   "source": [
    "2 * A"
   ]
  },
  {
   "cell_type": "markdown",
   "metadata": {
    "colab_type": "text",
    "id": "YvZmTHVKHzW8"
   },
   "source": [
    "### 5.6. Produto escalar"
   ]
  },
  {
   "cell_type": "code",
   "execution_count": 31,
   "metadata": {
    "colab": {},
    "colab_type": "code",
    "id": "Ov51fiWyHzW9"
   },
   "outputs": [
    {
     "data": {
      "text/plain": [
       "array([[ 42,  54,  66],\n",
       "       [ 69,  90, 111],\n",
       "       [  6,  16,  26]])"
      ]
     },
     "execution_count": 31,
     "metadata": {},
     "output_type": "execute_result"
    }
   ],
   "source": [
    "np.dot(A, B)"
   ]
  },
  {
   "cell_type": "markdown",
   "metadata": {
    "colab_type": "text",
    "id": "SrS_CqZhHzW_"
   },
   "source": [
    "### 5.7. Produto vetorial"
   ]
  },
  {
   "cell_type": "code",
   "execution_count": 32,
   "metadata": {
    "colab": {},
    "colab_type": "code",
    "id": "kqnaT6YEHzXA"
   },
   "outputs": [
    {
     "data": {
      "text/plain": [
       "array([[  3,  -6,   3],\n",
       "       [  3,  -6,   3],\n",
       "       [ -7, -66,  63]])"
      ]
     },
     "execution_count": 32,
     "metadata": {},
     "output_type": "execute_result"
    }
   ],
   "source": [
    "np.cross(A, B)"
   ]
  },
  {
   "cell_type": "markdown",
   "metadata": {
    "colab_type": "text",
    "id": "0iUSk3luHzXC"
   },
   "source": [
    "### 5.8. Transposição"
   ]
  },
  {
   "cell_type": "markdown",
   "metadata": {
    "colab_type": "text",
    "id": "X46Szo4YHzXD"
   },
   "source": [
    "#### 5.8.1. Utilizando a biblioteca Numpy"
   ]
  },
  {
   "cell_type": "code",
   "execution_count": 33,
   "metadata": {
    "colab": {},
    "colab_type": "code",
    "id": "Z0oNZyuKHzXE"
   },
   "outputs": [
    {
     "data": {
      "text/plain": [
       "array([[3, 6, 9],\n",
       "       [4, 7, 0],\n",
       "       [5, 8, 1]])"
      ]
     },
     "execution_count": 33,
     "metadata": {},
     "output_type": "execute_result"
    }
   ],
   "source": [
    "np.transpose(A)"
   ]
  },
  {
   "cell_type": "markdown",
   "metadata": {
    "colab_type": "text",
    "id": "n1mgAqjbHzXI"
   },
   "source": [
    "#### 5.8.2. Utilizando a transposição do próprio Python"
   ]
  },
  {
   "cell_type": "code",
   "execution_count": 34,
   "metadata": {
    "colab": {},
    "colab_type": "code",
    "id": "DIDxQGR_HzXK"
   },
   "outputs": [
    {
     "data": {
      "text/plain": [
       "array([[3, 6, 9],\n",
       "       [4, 7, 0],\n",
       "       [5, 8, 1]])"
      ]
     },
     "execution_count": 34,
     "metadata": {},
     "output_type": "execute_result"
    }
   ],
   "source": [
    "A.T"
   ]
  },
  {
   "cell_type": "markdown",
   "metadata": {
    "colab_type": "text",
    "id": "nGlgWInGHzXM"
   },
   "source": [
    "### 5.9. Inversão"
   ]
  },
  {
   "cell_type": "code",
   "execution_count": 35,
   "metadata": {
    "colab": {},
    "colab_type": "code",
    "id": "EUyK5tJxHzXN"
   },
   "outputs": [
    {
     "data": {
      "text/plain": [
       "array([[ -4,  -5,  -6],\n",
       "       [ -7,  -8,  -9],\n",
       "       [-10,  -1,  -2]], dtype=int32)"
      ]
     },
     "execution_count": 35,
     "metadata": {},
     "output_type": "execute_result"
    }
   ],
   "source": [
    "np.invert(A)"
   ]
  },
  {
   "cell_type": "markdown",
   "metadata": {
    "colab_type": "text",
    "id": "XM_acfitHzXP"
   },
   "source": [
    "### 5.10. Verificando as dimensões ('shape') da matriz"
   ]
  },
  {
   "cell_type": "code",
   "execution_count": 36,
   "metadata": {
    "colab": {},
    "colab_type": "code",
    "id": "8Xx0qVJSHzXQ"
   },
   "outputs": [
    {
     "data": {
      "text/plain": [
       "(3, 3)"
      ]
     },
     "execution_count": 36,
     "metadata": {},
     "output_type": "execute_result"
    }
   ],
   "source": [
    "A.shape"
   ]
  },
  {
   "cell_type": "markdown",
   "metadata": {
    "colab_type": "text",
    "id": "j_K_O3OmHzXS"
   },
   "source": [
    "### 5.11. Adicionando novas linhas ao fim de uma matriz já existente"
   ]
  },
  {
   "cell_type": "code",
   "execution_count": 37,
   "metadata": {
    "colab": {},
    "colab_type": "code",
    "id": "-KK1bmCdHzXT"
   },
   "outputs": [
    {
     "data": {
      "text/plain": [
       "array([[3, 4, 5],\n",
       "       [6, 7, 8],\n",
       "       [9, 0, 1],\n",
       "       [1, 3, 7]])"
      ]
     },
     "execution_count": 37,
     "metadata": {},
     "output_type": "execute_result"
    }
   ],
   "source": [
    "np.row_stack((A, np.array([1, 3, 7])))"
   ]
  },
  {
   "cell_type": "markdown",
   "metadata": {
    "colab_type": "text",
    "id": "pmAhU7ypHzXV"
   },
   "source": [
    "### 5.12. Adicionando novas colunas ao fim de uma matriz já existente"
   ]
  },
  {
   "cell_type": "code",
   "execution_count": 39,
   "metadata": {
    "colab": {},
    "colab_type": "code",
    "id": "zVOEqSTvHzXW"
   },
   "outputs": [
    {
     "data": {
      "text/plain": [
       "array([[3, 4, 5, 1],\n",
       "       [6, 7, 8, 3],\n",
       "       [9, 0, 1, 7]])"
      ]
     },
     "execution_count": 39,
     "metadata": {},
     "output_type": "execute_result"
    }
   ],
   "source": [
    "np.column_stack((A, np.array([1, 3, 7])))"
   ]
  },
  {
   "cell_type": "markdown",
   "metadata": {
    "colab_type": "text",
    "id": "_nyvbOfYHzXa"
   },
   "source": [
    "<font color='red'>**Exercício:**</font> crie dois arrays 3x2, então calcule o produto escalar de um deles pela transposta do outro e imprima a primeira linha do array resultante."
   ]
  },
  {
   "cell_type": "code",
   "execution_count": 39,
   "metadata": {
    "colab": {},
    "colab_type": "code",
    "id": "plW-vwYYHzXb"
   },
   "outputs": [
    {
     "data": {
      "text/plain": [
       "array([23, 29, 35])"
      ]
     },
     "execution_count": 39,
     "metadata": {},
     "output_type": "execute_result"
    }
   ],
   "source": [
    "D = np.array([[1,2],[3,4],[5,6]])\n",
    "E = np.array([[7,8],[9,10],[11,12]])\n",
    "\n",
    "np.dot(D,E.T)[0,:]"
   ]
  },
  {
   "cell_type": "markdown",
   "metadata": {
    "colab_type": "text",
    "id": "k12wgIcTHzXd"
   },
   "source": [
    "## 6. Gerando um sinal e plotando gráficos"
   ]
  },
  {
   "cell_type": "markdown",
   "metadata": {
    "colab_type": "text",
    "id": "gamv_5eTHzXe"
   },
   "source": [
    "### 6.1. Gerando um vetor de 50 posições, igualmente \"espaçadas\", com valores de 0 a 6$\\pi$"
   ]
  },
  {
   "cell_type": "code",
   "execution_count": 40,
   "metadata": {
    "colab": {},
    "colab_type": "code",
    "id": "WC0ThNzgHzXf"
   },
   "outputs": [],
   "source": [
    "x = np.linspace(0, 6 * np.pi, 50)"
   ]
  },
  {
   "cell_type": "markdown",
   "metadata": {
    "colab_type": "text",
    "id": "06t5UU9sHzXh"
   },
   "source": [
    "### 6.2. Gerando um sinal senoidal a partir das posições do vetor anteriormente criado"
   ]
  },
  {
   "cell_type": "code",
   "execution_count": 41,
   "metadata": {
    "colab": {},
    "colab_type": "code",
    "id": "WzSzja0wHzXh"
   },
   "outputs": [],
   "source": [
    "y = np.sin(x)"
   ]
  },
  {
   "cell_type": "markdown",
   "metadata": {
    "colab_type": "text",
    "id": "G7WAfgnPHzXj"
   },
   "source": [
    "### 6.3. Plotando o sinal"
   ]
  },
  {
   "cell_type": "code",
   "execution_count": 42,
   "metadata": {
    "colab": {},
    "colab_type": "code",
    "id": "MQXn12lhHzXk"
   },
   "outputs": [
    {
     "data": {
      "text/plain": [
       "Text(0, 0.5, 'Valor')"
      ]
     },
     "execution_count": 42,
     "metadata": {},
     "output_type": "execute_result"
    },
    {
     "data": {
      "image/png": "[encoded data removed]",
      "text/plain": [
       "<Figure size 432x288 with 1 Axes>"
      ]
     },
     "metadata": {
      "needs_background": "light"
     },
     "output_type": "display_data"
    }
   ],
   "source": [
    "plt.plot(x, y, label='cos(t)')\n",
    "plt.legend()\n",
    "plt.title('Sinal Senoidal')\n",
    "plt.xlabel('Tempo')\n",
    "plt.ylabel('Valor')"
   ]
  },
  {
   "cell_type": "markdown",
   "metadata": {
    "colab_type": "text",
    "id": "v5tclUnsHzXm"
   },
   "source": [
    "### 6.4 Plotando o gráfico de dispersão ('Scatter')"
   ]
  },
  {
   "cell_type": "code",
   "execution_count": 43,
   "metadata": {
    "colab": {},
    "colab_type": "code",
    "id": "GRHA6qzNHzXn"
   },
   "outputs": [
    {
     "data": {
      "text/plain": [
       "Text(0, 0.5, 'Valor')"
      ]
     },
     "execution_count": 43,
     "metadata": {},
     "output_type": "execute_result"
    },
    {
     "data": {
      "image/png": "[encoded data removed]",
      "text/plain": [
       "<Figure size 432x288 with 1 Axes>"
      ]
     },
     "metadata": {
      "needs_background": "light"
     },
     "output_type": "display_data"
    }
   ],
   "source": [
    "plt.scatter(x, y, label='cos(t)')\n",
    "plt.legend()\n",
    "plt.title('Sinal Senoidal')\n",
    "plt.xlabel('Tempo')\n",
    "plt.ylabel('Valor')"
   ]
  },
  {
   "cell_type": "markdown",
   "metadata": {
    "colab_type": "text",
    "id": "o0ZBjTnjHzXp"
   },
   "source": [
    "### 6.5. Plotando gráficos de hastes ou ramos ('Stem')"
   ]
  },
  {
   "cell_type": "code",
   "execution_count": 44,
   "metadata": {
    "colab": {},
    "colab_type": "code",
    "id": "s2Nh97o-HzXq"
   },
   "outputs": [
    {
     "name": "stderr",
     "output_type": "stream",
     "text": [
      "<ipython-input-44-994351209389>:1: UserWarning: In Matplotlib 3.3 individual lines on a stem plot will be added as a LineCollection instead of individual lines. This significantly improves the performance of a stem plot. To remove this warning and switch to the new behaviour, set the \"use_line_collection\" keyword argument to True.\n",
      "  markerline, stemlines, baseline = plt.stem(x, y, label='cos(t)')\n"
     ]
    },
    {
     "data": {
      "text/plain": [
       "Text(0, 0.5, 'Valor')"
      ]
     },
     "execution_count": 44,
     "metadata": {},
     "output_type": "execute_result"
    },
    {
     "data": {
      "image/png": "[encoded data removed]",
      "text/plain": [
       "<Figure size 432x288 with 1 Axes>"
      ]
     },
     "metadata": {
      "needs_background": "light"
     },
     "output_type": "display_data"
    }
   ],
   "source": [
    "markerline, stemlines, baseline = plt.stem(x, y, label='cos(t)')\n",
    "plt.setp(markerline, color='r')\n",
    "plt.setp(stemlines, color='g', linewidth=3)\n",
    "plt.setp(baseline, color='b', linewidth=2)\n",
    "plt.legend()\n",
    "plt.title('Sinal Senoidal')\n",
    "plt.xlabel('Tempo')\n",
    "plt.ylabel('Valor')"
   ]
  },
  {
   "cell_type": "markdown",
   "metadata": {
    "colab_type": "text",
    "id": "LqrOTONXHzXv"
   },
   "source": [
    "### 6.6. Plotando múltiplos gráficos em uma única figura"
   ]
  },
  {
   "cell_type": "code",
   "execution_count": 45,
   "metadata": {
    "colab": {},
    "colab_type": "code",
    "id": "a-tj_nP9HzXw"
   },
   "outputs": [
    {
     "data": {
      "text/plain": [
       "Text(0, 0.5, 'Valor')"
      ]
     },
     "execution_count": 45,
     "metadata": {},
     "output_type": "execute_result"
    },
    {
     "data": {
      "image/png": "[encoded data removed]",
      "text/plain": [
       "<Figure size 432x288 with 1 Axes>"
      ]
     },
     "metadata": {
      "needs_background": "light"
     },
     "output_type": "display_data"
    }
   ],
   "source": [
    "plt.plot(x, y, label='cos(t)')\n",
    "plt.plot(x, 2 * y, label='2 * cos(t)')\n",
    "plt.legend()\n",
    "plt.title('Sinais Senoidais')\n",
    "plt.xlabel('Tempo')\n",
    "plt.ylabel('Valor')"
   ]
  },
  {
   "cell_type": "markdown",
   "metadata": {
    "colab_type": "text",
    "id": "q6lMbefuHzX0"
   },
   "source": [
    "<font color='red'>**Exercício:**</font> gere três sinais diferentes, então faça o plot, o gráfico de dispersão e o diagrama de hastes; apenas um tipo para cada sinal."
   ]
  },
  {
   "cell_type": "code",
   "execution_count": 46,
   "metadata": {
    "colab": {},
    "colab_type": "code",
    "id": "Vp8kMOKlHzX0"
   },
   "outputs": [
    {
     "data": {
      "text/plain": [
       "Text(0, 0.5, 'Valor')"
      ]
     },
     "execution_count": 46,
     "metadata": {},
     "output_type": "execute_result"
    },
    {
     "data": {
      "image/png": "[encoded data removed]",
      "text/plain": [
       "<Figure size 432x288 with 1 Axes>"
      ]
     },
     "metadata": {
      "needs_background": "light"
     },
     "output_type": "display_data"
    }
   ],
   "source": [
    "x = np.linspace(0, 6 * np.pi, 50)\n",
    "y = np.sin(x) + np.cos(x)\n",
    "y3 = np.cosh(x)\n",
    "plt.plot(x, y, label = 'sen(x) + cos(x)')\n",
    "plt.legend()\n",
    "plt.title('sen(x) + cos(x)')\n",
    "plt.xlabel('Tempo')\n",
    "plt.ylabel('Valor')"
   ]
  },
  {
   "cell_type": "code",
   "execution_count": 47,
   "metadata": {},
   "outputs": [
    {
     "data": {
      "text/plain": [
       "Text(0, 0.5, 'Valor')"
      ]
     },
     "execution_count": 47,
     "metadata": {},
     "output_type": "execute_result"
    },
    {
     "data": {
      "image/png": "[encoded data removed]",
      "text/plain": [
       "<Figure size 432x288 with 1 Axes>"
      ]
     },
     "metadata": {
      "needs_background": "light"
     },
     "output_type": "display_data"
    }
   ],
   "source": [
    "y2 = np.sinh(x)\n",
    "plt.scatter(x, y2, label = 'senh(x)')\n",
    "plt.legend()\n",
    "plt.title('senh(x)')\n",
    "plt.xlabel('Tempo')\n",
    "plt.ylabel('Valor')"
   ]
  },
  {
   "cell_type": "code",
   "execution_count": 48,
   "metadata": {},
   "outputs": [
    {
     "name": "stderr",
     "output_type": "stream",
     "text": [
      "<ipython-input-48-c791713ab2d0>:2: UserWarning: In Matplotlib 3.3 individual lines on a stem plot will be added as a LineCollection instead of individual lines. This significantly improves the performance of a stem plot. To remove this warning and switch to the new behaviour, set the \"use_line_collection\" keyword argument to True.\n",
      "  markerline, stemlines, baseline = plt.stem(x, y, label='cosh(x)')\n"
     ]
    },
    {
     "data": {
      "text/plain": [
       "Text(0, 0.5, 'Valor')"
      ]
     },
     "execution_count": 48,
     "metadata": {},
     "output_type": "execute_result"
    },
    {
     "data": {
      "image/png": "[encoded data removed]",
      "text/plain": [
       "<Figure size 432x288 with 1 Axes>"
      ]
     },
     "metadata": {
      "needs_background": "light"
     },
     "output_type": "display_data"
    }
   ],
   "source": [
    "y3 = np.cosh(x)\n",
    "markerline, stemlines, baseline = plt.stem(x, y, label='cosh(x)')\n",
    "plt.setp(markerline, color='r')\n",
    "plt.setp(stemlines, color='g', linewidth=3)\n",
    "plt.setp(baseline, color='b', linewidth=2)\n",
    "plt.legend()\n",
    "plt.title('cosh(x)')\n",
    "plt.xlabel('Tempo')\n",
    "plt.ylabel('Valor')"
   ]
  },
  {
   "cell_type": "markdown",
   "metadata": {
    "colab_type": "text",
    "id": "ougyaxCDHzX3"
   },
   "source": [
    "## 7. Condicionais (if, elif e else)"
   ]
  },
  {
   "cell_type": "code",
   "execution_count": 49,
   "metadata": {
    "colab": {},
    "colab_type": "code",
    "id": "yCySsrYXHzX3"
   },
   "outputs": [
    {
     "name": "stdout",
     "output_type": "stream",
     "text": [
      "High\n"
     ]
    }
   ],
   "source": [
    "n = 5\n",
    "\n",
    "if n < 4:\n",
    "    print('Low')\n",
    "elif n == 4:\n",
    "    print('Mid')\n",
    "else:\n",
    "    print('High')"
   ]
  },
  {
   "cell_type": "markdown",
   "metadata": {
    "colab_type": "text",
    "id": "G7GJmWizHzX6"
   },
   "source": [
    "## 8. Laços de repetição"
   ]
  },
  {
   "cell_type": "markdown",
   "metadata": {
    "colab_type": "text",
    "id": "KFWGAheQHzX7"
   },
   "source": [
    "### 8.1. For"
   ]
  },
  {
   "cell_type": "code",
   "execution_count": 50,
   "metadata": {
    "colab": {},
    "colab_type": "code",
    "id": "k0NEjai6HzX9"
   },
   "outputs": [
    {
     "name": "stdout",
     "output_type": "stream",
     "text": [
      "0\n",
      "1\n",
      "2\n",
      "3\n",
      "4\n",
      "5\n",
      "6\n",
      "7\n",
      "8\n",
      "9\n"
     ]
    }
   ],
   "source": [
    "for x in range(10):\n",
    "    print(x)"
   ]
  },
  {
   "cell_type": "code",
   "execution_count": 51,
   "metadata": {
    "colab": {},
    "colab_type": "code",
    "id": "TQdx7r_oHzX_"
   },
   "outputs": [
    {
     "name": "stdout",
     "output_type": "stream",
     "text": [
      "1\n",
      "3\n",
      "7\n",
      "11\n",
      "19\n"
     ]
    }
   ],
   "source": [
    "K = [1, 3, 7, 11, 19]\n",
    "\n",
    "for x in K:\n",
    "    print(x)"
   ]
  },
  {
   "cell_type": "code",
   "execution_count": 52,
   "metadata": {
    "colab": {},
    "colab_type": "code",
    "id": "aOij-CZ_HzYA"
   },
   "outputs": [
    {
     "name": "stdout",
     "output_type": "stream",
     "text": [
      "[1, 3, 2, 5]\n",
      "[4, 8, 7, 12]\n"
     ]
    }
   ],
   "source": [
    "KK = [[1,3,2,5], [4,8,7,12]]\n",
    "\n",
    "for x in KK:\n",
    "    print(x)"
   ]
  },
  {
   "cell_type": "markdown",
   "metadata": {
    "colab_type": "text",
    "id": "4FlPn6LeHzYC"
   },
   "source": [
    "### 8.2. While"
   ]
  },
  {
   "cell_type": "code",
   "execution_count": 53,
   "metadata": {
    "colab": {},
    "colab_type": "code",
    "id": "EcOjiw6KHzYD"
   },
   "outputs": [
    {
     "name": "stdout",
     "output_type": "stream",
     "text": [
      "0\n",
      "1\n",
      "2\n",
      "3\n",
      "4\n"
     ]
    }
   ],
   "source": [
    "i = 0\n",
    "\n",
    "while i < 5:\n",
    "    print(i)\n",
    "    i += 1"
   ]
  },
  {
   "cell_type": "markdown",
   "metadata": {
    "colab_type": "text",
    "id": "VK4G97_THzYF"
   },
   "source": [
    "## 9. Definindo funções"
   ]
  },
  {
   "cell_type": "markdown",
   "metadata": {
    "colab_type": "text",
    "id": "WnX_T-MaHzYF"
   },
   "source": [
    "### 9.1. Simples"
   ]
  },
  {
   "cell_type": "markdown",
   "metadata": {
    "colab_type": "text",
    "id": "9L8x9lXJHzYG"
   },
   "source": [
    "Esta é a definição de um exemplo bastante simples, que apenas retorna o resultado da soma dos dois números de entrada."
   ]
  },
  {
   "cell_type": "code",
   "execution_count": 54,
   "metadata": {
    "colab": {},
    "colab_type": "code",
    "id": "ZPl4OR8SHzYH"
   },
   "outputs": [],
   "source": [
    "def soma(a, b):\n",
    "    return a + b"
   ]
  },
  {
   "cell_type": "markdown",
   "metadata": {
    "colab_type": "text",
    "id": "p3cScCXgHzYK"
   },
   "source": [
    "Agora, que a função já está definida, ela está pronta para ser usada neste Notebook, independentemente da célula em que seja invocada."
   ]
  },
  {
   "cell_type": "code",
   "execution_count": 55,
   "metadata": {
    "colab": {},
    "colab_type": "code",
    "id": "aDoug5qtHzYL"
   },
   "outputs": [
    {
     "data": {
      "text/plain": [
       "15"
      ]
     },
     "execution_count": 55,
     "metadata": {},
     "output_type": "execute_result"
    }
   ],
   "source": [
    "soma(7, 8)"
   ]
  },
  {
   "cell_type": "markdown",
   "metadata": {
    "colab_type": "text",
    "id": "XeUiPOF9HzYN"
   },
   "source": [
    "### 9.2. Com valores padrão"
   ]
  },
  {
   "cell_type": "markdown",
   "metadata": {
    "colab_type": "text",
    "id": "qRDe8rIUHzYP"
   },
   "source": [
    "Funções em Python podem ter variáveis de entrada com valores padrão, o que faz com que o usuário não precise entrar com o valor correspondente à variável de entrada em questão, desde que se deseje utilizar o valor padrão."
   ]
  },
  {
   "cell_type": "code",
   "execution_count": 56,
   "metadata": {
    "colab": {},
    "colab_type": "code",
    "id": "r2RjFrSEHzYQ"
   },
   "outputs": [],
   "source": [
    "def soma_padrao(a, b=3):\n",
    "    return a + b"
   ]
  },
  {
   "cell_type": "markdown",
   "metadata": {
    "colab_type": "text",
    "id": "XJRall-DHzYS"
   },
   "source": [
    "Pela função soma_padrao(), se forem utilizados os dois argumentos de entrada, o seu funcionamento é o mesmo da função soma(), porém, ao se utilizar um único argumento de entrada, a função passa a considerar o valor padrão para a segunda entrada (não fornecida pelo usuário)."
   ]
  },
  {
   "cell_type": "code",
   "execution_count": 57,
   "metadata": {
    "colab": {},
    "colab_type": "code",
    "id": "lUeypMQfHzYT"
   },
   "outputs": [
    {
     "data": {
      "text/plain": [
       "15"
      ]
     },
     "execution_count": 57,
     "metadata": {},
     "output_type": "execute_result"
    }
   ],
   "source": [
    "soma_padrao(7, 8)"
   ]
  },
  {
   "cell_type": "code",
   "execution_count": 58,
   "metadata": {
    "colab": {},
    "colab_type": "code",
    "id": "D0irrgqpHzYV"
   },
   "outputs": [
    {
     "data": {
      "text/plain": [
       "10"
      ]
     },
     "execution_count": 58,
     "metadata": {},
     "output_type": "execute_result"
    }
   ],
   "source": [
    "soma_padrao(7)"
   ]
  },
  {
   "cell_type": "markdown",
   "metadata": {
    "colab_type": "text",
    "id": "tthWnrUXHzYa"
   },
   "source": [
    "<font color='red'>**Exercício:**</font> crie uma função que utilize ao menos um condicional e ao menos um laço de repetição, além de ter pelo menos uma variável de entrada com valor padrão. Então, em outra célula, utilize a função criada para mostrar que funciona adequadamente."
   ]
  },
  {
   "cell_type": "code",
   "execution_count": 59,
   "metadata": {
    "colab": {},
    "colab_type": "code",
    "id": "hbxFy1x0HzYb"
   },
   "outputs": [],
   "source": [
    "def alternando(num1 = 1, num2 = 2, length = 5):\n",
    "    A = []\n",
    "    for i in range(length):\n",
    "        if i % 2 == 0:\n",
    "            A.append(num2)\n",
    "        else:\n",
    "            A.append(num1)\n",
    "    \n",
    "    return A"
   ]
  },
  {
   "cell_type": "code",
   "execution_count": 60,
   "metadata": {
    "colab": {},
    "colab_type": "code",
    "id": "JhqjDQaYHzYd"
   },
   "outputs": [
    {
     "name": "stdout",
     "output_type": "stream",
     "text": [
      "[4, 3, 4, 3, 4, 3, 4, 3, 4, 3]\n"
     ]
    }
   ],
   "source": [
    "vetor = alternando(3, 4, 10)\n",
    "print(vetor)"
   ]
  },
  {
   "cell_type": "markdown",
   "metadata": {
    "colab_type": "text",
    "id": "5Sx_6VOnHzYg"
   },
   "source": [
    "## 10. Ajuda"
   ]
  },
  {
   "cell_type": "markdown",
   "metadata": {
    "colab_type": "text",
    "id": "xaMc7DL4HzYh"
   },
   "source": [
    "#### Procurem consultar as documentações correspondentes para entender como funcionam as funções.\n",
    "\n",
    "* [Python](https://docs.python.org/3.6/)\n",
    "* [Numpy](https://docs.scipy.org/doc/numpy/reference/)\n",
    "* [Scipy](https://docs.scipy.org/doc/scipy/reference/)\n",
    "* [Scikit-Learn](http://scikit-learn.org/stable/documentation.html)"
   ]
  },
  {
   "cell_type": "markdown",
   "metadata": {
    "colab_type": "text",
    "id": "f3D6dv-UHzYi"
   },
   "source": [
    "Utilizando a própria linguagem Python também é possível obter ajuda quando se quer saber como funciona uma dada função. Para isso, basta utilizar a função $help()$ com o nome da função que deseja pesquisar. Por exemplo, caso se deseje saber mais sobre a função $linspace()$ da biblioteca Numpy, pode-se pesquisar assim:"
   ]
  },
  {
   "cell_type": "code",
   "execution_count": 61,
   "metadata": {
    "colab": {},
    "colab_type": "code",
    "id": "lmmnusB9HzYj"
   },
   "outputs": [
    {
     "name": "stdout",
     "output_type": "stream",
     "text": [
      "Help on function linspace in module numpy:\n",
      "\n",
      "linspace(start, stop, num=50, endpoint=True, retstep=False, dtype=None, axis=0)\n",
      "    Return evenly spaced numbers over a specified interval.\n",
      "    \n",
      "    Returns `num` evenly spaced samples, calculated over the\n",
      "    interval [`start`, `stop`].\n",
      "    \n",
      "    The endpoint of the interval can optionally be excluded.\n",
      "    \n",
      "    .. versionchanged:: 1.16.0\n",
      "        Non-scalar `start` and `stop` are now supported.\n",
      "    \n",
      "    Parameters\n",
      "    ----------\n",
      "    start : array_like\n",
      "        The starting value of the sequence.\n",
      "    stop : array_like\n",
      "        The end value of the sequence, unless `endpoint` is set to False.\n",
      "        In that case, the sequence consists of all but the last of ``num + 1``\n",
      "        evenly spaced samples, so that `stop` is excluded.  Note that the step\n",
      "        size changes when `endpoint` is False.\n",
      "    num : int, optional\n",
      "        Number of samples to generate. Default is 50. Must be non-negative.\n",
      "    endpoint : bool, optional\n",
      "        If True, `stop` is the last sample. Otherwise, it is not included.\n",
      "        Default is True.\n",
      "    retstep : bool, optional\n",
      "        If True, return (`samples`, `step`), where `step` is the spacing\n",
      "        between samples.\n",
      "    dtype : dtype, optional\n",
      "        The type of the output array.  If `dtype` is not given, infer the data\n",
      "        type from the other input arguments.\n",
      "    \n",
      "        .. versionadded:: 1.9.0\n",
      "    \n",
      "    axis : int, optional\n",
      "        The axis in the result to store the samples.  Relevant only if start\n",
      "        or stop are array-like.  By default (0), the samples will be along a\n",
      "        new axis inserted at the beginning. Use -1 to get an axis at the end.\n",
      "    \n",
      "        .. versionadded:: 1.16.0\n",
      "    \n",
      "    Returns\n",
      "    -------\n",
      "    samples : ndarray\n",
      "        There are `num` equally spaced samples in the closed interval\n",
      "        ``[start, stop]`` or the half-open interval ``[start, stop)``\n",
      "        (depending on whether `endpoint` is True or False).\n",
      "    step : float, optional\n",
      "        Only returned if `retstep` is True\n",
      "    \n",
      "        Size of spacing between samples.\n",
      "    \n",
      "    \n",
      "    See Also\n",
      "    --------\n",
      "    arange : Similar to `linspace`, but uses a step size (instead of the\n",
      "             number of samples).\n",
      "    geomspace : Similar to `linspace`, but with numbers spaced evenly on a log\n",
      "                scale (a geometric progression).\n",
      "    logspace : Similar to `geomspace`, but with the end points specified as\n",
      "               logarithms.\n",
      "    \n",
      "    Examples\n",
      "    --------\n",
      "    >>> np.linspace(2.0, 3.0, num=5)\n",
      "    array([2.  , 2.25, 2.5 , 2.75, 3.  ])\n",
      "    >>> np.linspace(2.0, 3.0, num=5, endpoint=False)\n",
      "    array([2. ,  2.2,  2.4,  2.6,  2.8])\n",
      "    >>> np.linspace(2.0, 3.0, num=5, retstep=True)\n",
      "    (array([2.  ,  2.25,  2.5 ,  2.75,  3.  ]), 0.25)\n",
      "    \n",
      "    Graphical illustration:\n",
      "    \n",
      "    >>> import matplotlib.pyplot as plt\n",
      "    >>> N = 8\n",
      "    >>> y = np.zeros(N)\n",
      "    >>> x1 = np.linspace(0, 10, N, endpoint=True)\n",
      "    >>> x2 = np.linspace(0, 10, N, endpoint=False)\n",
      "    >>> plt.plot(x1, y, 'o')\n",
      "    [<matplotlib.lines.Line2D object at 0x...>]\n",
      "    >>> plt.plot(x2, y + 0.5, 'o')\n",
      "    [<matplotlib.lines.Line2D object at 0x...>]\n",
      "    >>> plt.ylim([-0.5, 1])\n",
      "    (-0.5, 1)\n",
      "    >>> plt.show()\n",
      "\n"
     ]
    }
   ],
   "source": [
    "help(np.linspace)"
   ]
  },
  {
   "cell_type": "markdown",
   "metadata": {
    "colab_type": "text",
    "id": "jASnI-haHzYm"
   },
   "source": [
    "#### Outras fontes também podem ser consultadas."
   ]
  },
  {
   "cell_type": "markdown",
   "metadata": {
    "colab_type": "text",
    "id": "WKck7GipHzYm"
   },
   "source": [
    "* [StackOverflow](https://stackoverflow.com/)\n",
    "* [Quora](https://www.quora.com/)"
   ]
  },
  {
   "cell_type": "code",
   "execution_count": 0,
   "metadata": {
    "colab": {},
    "colab_type": "code",
    "id": "2huHnscLHzYn"
   },
   "outputs": [],
   "source": []
  }
 ],
 "metadata": {
  "colab": {
   "name": "Lab 1 - Introdução.ipynb",
   "provenance": []
  },
  "kernelspec": {
   "display_name": "Python 3",
   "language": "python",
   "name": "python3"
  },
  "language_info": {
   "codemirror_mode": {
    "name": "ipython",
    "version": 3
   },
   "file_extension": ".py",
   "mimetype": "text/x-python",
   "name": "python",
   "nbconvert_exporter": "python",
   "pygments_lexer": "ipython3",
   "version": "3.7.6"
  }
 },
 "nbformat": 4,
 "nbformat_minor": 1
}
